{
 "cells": [
  {
   "cell_type": "code",
   "execution_count": 15,
   "metadata": {},
   "outputs": [],
   "source": [
    "import numpy as np\n",
    "import pandas as pd"
   ]
  },
  {
   "cell_type": "code",
   "execution_count": 16,
   "metadata": {
    "scrolled": true
   },
   "outputs": [
    {
     "name": "stdout",
     "output_type": "stream",
     "text": [
      "          G    R  AN       AM  P    EN      IE     FUS      ρ    Rs  \\\n",
      "Element                                                               \n",
      "H         1   32   1    1.008  1  2.20  1311.3    0.12   0.07     -   \n",
      "O         6   73   8   15.999  2  3.44  1313.1    0.44   1.15     -   \n",
      "N         5   75   7   14.006  2  3.04  1401.5    0.72   0.81     -   \n",
      "C         4   77   6   12.011  2  2.55  1085.7  117.00   2.25     -   \n",
      "Sc        3  144  21   44.956  4  1.36   630.8   15.80   2.99  3.43   \n",
      "Ti        4  132  22   47.867  4  1.54   657.8   18.80   4.54  3.05   \n",
      "V         5  122  23   50.941  4  1.63   650.1   17.50   6.11  2.82   \n",
      "Cr        6  118  24   51.999  4  1.66   652.4   21.00   7.18  2.68   \n",
      "Mn        7  117  25   54.938  4  1.55   716.8   13.40   7.21   2.7   \n",
      "Fe        8  117  26   55.847  4  1.83   759.1   13.80   7.87  2.66   \n",
      "Co        9  116  27   58.933  4  1.88   758.1   15.48   8.90  2.62   \n",
      "Ni       10  115  28   58.693  4  1.91   736.2   17.61   8.90   2.6   \n",
      "Cu       11  117  29   63.546  4  1.90   745.0   13.01   8.96  2.67   \n",
      "Y         3  162  39   88.905  5  1.22   615.4   11.50   4.47  3.76   \n",
      "Zr        4  145  40   91.224  5  1.33   659.7   19.00   6.50  3.35   \n",
      "Nb        5  164  41   92.902  5  1.60   663.6   26.80   8.57  3.07   \n",
      "Mo        6  130  42   95.960  5  2.16   684.8   28.00  10.22  2.99   \n",
      "Ru        8  125  44  101.070  5  2.20   710.3   25.50  12.41  2.79   \n",
      "Rh        9  125  45  102.905  5  2.28   719.5   21.80  12.41  2.81   \n",
      "Pd       10  128  46  106.420  5  2.20   803.5   17.24  12.02  2.87   \n",
      "Ag       11  134  47  107.868  5  1.93   730.5   11.95  10.50  3.01   \n",
      "Hf        4  144  72  178.490  6  1.30   575.2   25.10  13.31   3.3   \n",
      "Ta        5  134  73  180.950  6  1.50   760.1   24.70  16.65  3.07   \n",
      "W         6  162  74  183.840  6  2.36   769.7   35.00  19.30  2.95   \n",
      "Re        7  128  75  186.207  6  1.90   759.1   34.00  21.02  2.87   \n",
      "Os        8  126  76  190.230  6  2.20   819.8   31.70  22.57  2.83   \n",
      "Ir        9  127  77  192.217  6  2.20   868.1   26.00  22.56  2.84   \n",
      "Pt       10  130  78  195.080  6  2.28   868.1   21.76  21.09   2.9   \n",
      "Au       11  134  79  196.966  6  2.54   889.3   12.68  19.30     3   \n",
      "\n",
      "         d band center  work function  surface energy  \n",
      "Element                                                \n",
      "H                  NaN            NaN             NaN  \n",
      "O                  NaN            NaN             NaN  \n",
      "N                  NaN            NaN             NaN  \n",
      "C                  NaN            NaN             NaN  \n",
      "Sc              -0.751           3.84            0.76  \n",
      "Ti              -1.247           4.63            1.56  \n",
      "V               -1.226           4.88            2.55  \n",
      "Cr              -2.123           5.27            3.09  \n",
      "Mn              -2.038           5.45            3.24  \n",
      "Fe              -1.834           5.54            3.28  \n",
      "Co              -2.084           5.76            3.23  \n",
      "Ni              -2.082           5.77            2.63  \n",
      "Cu              -2.793           5.30            1.96  \n",
      "Y               -0.822           3.46            1.15  \n",
      "Zr              -1.389           4.38            1.75  \n",
      "Nb              -1.548           4.63            2.20  \n",
      "Mo              -2.714           4.98            2.64  \n",
      "Ru              -3.026           5.33            2.99  \n",
      "Rh              -2.967           5.44            2.53  \n",
      "Pd              -2.334           5.53            1.64  \n",
      "Ag              -4.205           4.67            1.21  \n",
      "Hf              -1.705           4.54            1.39  \n",
      "Ta              -1.594           4.86            2.27  \n",
      "W               -3.010           5.09            2.50  \n",
      "Re              -2.800           5.88            3.28  \n",
      "Os              -3.712           6.25            3.46  \n",
      "Ir              -3.869           6.63            3.41  \n",
      "Pt              -3.180           6.74            2.35  \n",
      "Au              -3.766           6.01            1.61  \n"
     ]
    }
   ],
   "source": [
    "a = pd.read_excel(\"EP.xlsx\", index_col=\"Element\")\n",
    "print(a)"
   ]
  },
  {
   "cell_type": "markdown",
   "metadata": {},
   "source": [
    "### Add discriptions for the varialbes of each column above"
   ]
  },
  {
   "cell_type": "code",
   "execution_count": 17,
   "metadata": {
    "scrolled": false
   },
   "outputs": [
    {
     "name": "stdout",
     "output_type": "stream",
     "text": [
      "['OH,Sc,0.215006441665615\\n', 'NO,Sc,-2.7789197666245364\\n', 'CO,Sc,-0.972975729342739\\n', 'OH,Ti,0.6454420926545978\\n', 'NO,Ti,-2.1475656462025334\\n', 'CO,Ti,-0.5599500559394706\\n', 'OH,V,0.2588726116566491\\n', 'NO,V,-1.758045918481951\\n', 'CO,V,-0.3533719703774416\\n', 'OH,Cr,-0.5725705816942153\\n', 'NO,Cr,-1.4455678929367188\\n', 'CO,Cr,-0.6453508141429474\\n', 'OH,Mn,-1.231207566169381\\n', 'NO,Mn,-2.0145418838996214\\n', 'CO,Mn,-0.7970010110110941\\n', 'OH,Fe,-5.422215635035876\\n', 'NO,Fe,-8.676706457662728\\n', 'CO,Fe,-7.968596022949203\\n', 'OH,Co,-0.5330255557483738\\n', 'NO,Co,-3.2497512980534218\\n', 'CO,Co,-3.840290455987944\\n', 'OH,Ni,-1.4813058495692673\\n', 'NO,Ni,-2.716659181216489\\n', 'CO,Ni,-1.8008720839670183\\n', 'OH,Cu,-2.6762186673134636\\n', 'NO,Cu,-3.3217139363376766\\n', 'CO,Cu,-1.7689279898675103\\n', 'OH,Y,0.12603610181747626\\n', 'NO,Y,-3.1346732258677683\\n', 'CO,Y,-0.8997987274496246\\n', 'OH,Zr,0.35325405995924797\\n', 'NO,Zr,-2.6600526249215584\\n', 'CO,Zr,-0.9917351857023995\\n', 'OH,Nb,0.017580247897797108\\n', 'NO,Nb,-2.1672063900258145\\n', 'CO,Nb,-0.514283982664022\\n', 'OH,Mo,-0.6603829564993404\\n', 'NO,Mo,-1.8149024171479873\\n', 'CO,Mo,-0.8156029770298296\\n', 'OH,Ru,-1.8564204350284186\\n', 'NO,Ru,-2.046938726214318\\n', 'CO,Ru,-0.655256880555303\\n', 'OH,Rh,-1.6330409926279899\\n', 'NO,Rh,-2.263982576911655\\n', 'CO,Rh,0.04573105542436551\\n', 'OH,Pd,-2.838915199034666\\n', 'NO,Pd,-3.0328087037198266\\n', 'CO,Pd,-0.7817736763878962\\n', 'OH,Ag,-2.578030843849703\\n', 'NO,Ag,-3.409712505022018\\n', 'CO,Ag,-1.2845149641194489\\n', 'OH,Hf,0.33961223874234747\\n', 'NO,Hf,-2.5234873465421153\\n', 'CO,Hf,-0.7073750219914707\\n', 'OH,Ta,-0.2643751748366512\\n', 'NO,Ta,-2.3172272493963426\\n', 'CO,Ta,-0.6405605422654013\\n', 'OH,W,-0.7318268463145827\\n', 'NO,W,-2.1032647342944237\\n', 'CO,W,-0.8476150425466251\\n', 'OH,Re,-1.1438181630972863\\n', 'NO,Re,-2.508346766005925\\n', 'CO,Re,-0.9190024889967567\\n', 'OH,Os,-1.4592196655489218\\n', 'NO,Os,-2.131181882674735\\n', 'CO,Os,-0.6201966364622429\\n', 'OH,Ir,-1.1711182073136612\\n', 'NO,Ir,-2.2271665308082866\\n', 'CO,Ir,-0.047363425986876706\\n', 'OH,Pt,-2.1425180037547804\\n', 'NO,Pt,-2.947178049615143\\n', 'CO,Pt,-0.28621893055893466\\n', 'OH,Au,-2.792406102487604\\n', 'NO,Au,-3.1009712639603073\\n', 'CO,Au,-1.2643828540417594\\n']\n"
     ]
    }
   ],
   "source": [
    "aa = open(\"RPA_adsorp_double.txt\", \"r\")\n",
    "nn = aa.readlines()\n",
    "print(nn)"
   ]
  },
  {
   "cell_type": "markdown",
   "metadata": {},
   "source": [
    "### Above data should plot a curve, to see the possible trend of the adsorption energy"
   ]
  },
  {
   "cell_type": "code",
   "execution_count": 18,
   "metadata": {},
   "outputs": [],
   "source": [
    "X = []\n",
    "y = []\n",
    "for i in range(len(nn)):\n",
    "    sub = str(nn[i].replace(\",\", \" \").split()[0])\n",
    "    sur = str(nn[i].replace(\",\", \" \").split()[1])\n",
    "    en = float(nn[i].replace(\",\", \" \").split()[2])\n",
    "    if sub == \"OH\":\n",
    "        mol = \"H\"\n",
    "    elif sub == \"NO\":\n",
    "        mol = \"N\"\n",
    "    else:\n",
    "        mol = \"C\"\n",
    "    xi = []\n",
    "    yi = en\n",
    "    xi.append(a.loc[mol, \"G\"])\n",
    "    xi.append(a.loc[mol, \"AM\"])\n",
    "    xi.append(a.loc[mol, \"P\"])\n",
    "    xi.append(a.loc[mol, \"FUS\"])\n",
    "    xi.append(a.loc[sur, \"G\"])\n",
    "    xi.append(a.loc[sur, \"Rs\"])\n",
    "    xi.append(a.loc[sur, \"surface energy\"])\n",
    "    xi.append(a.loc[sur, \"d band center\"])\n",
    "    xi.append(a.loc[sur, \"work function\"])\n",
    "    X.append(xi)\n",
    "    y.append(yi)"
   ]
  },
  {
   "cell_type": "code",
   "execution_count": 19,
   "metadata": {},
   "outputs": [
    {
     "name": "stdout",
     "output_type": "stream",
     "text": [
      "[[  1.      1.008   1.      0.12    3.      3.43    0.76   -0.751   3.84 ]\n",
      " [  5.     14.006   2.      0.72    3.      3.43    0.76   -0.751   3.84 ]\n",
      " [  4.     12.011   2.    117.      3.      3.43    0.76   -0.751   3.84 ]\n",
      " [  1.      1.008   1.      0.12    4.      3.05    1.56   -1.247   4.63 ]\n",
      " [  5.     14.006   2.      0.72    4.      3.05    1.56   -1.247   4.63 ]\n",
      " [  4.     12.011   2.    117.      4.      3.05    1.56   -1.247   4.63 ]\n",
      " [  1.      1.008   1.      0.12    5.      2.82    2.55   -1.226   4.88 ]\n",
      " [  5.     14.006   2.      0.72    5.      2.82    2.55   -1.226   4.88 ]\n",
      " [  4.     12.011   2.    117.      5.      2.82    2.55   -1.226   4.88 ]\n",
      " [  1.      1.008   1.      0.12    6.      2.68    3.09   -2.123   5.27 ]\n",
      " [  5.     14.006   2.      0.72    6.      2.68    3.09   -2.123   5.27 ]\n",
      " [  4.     12.011   2.    117.      6.      2.68    3.09   -2.123   5.27 ]\n",
      " [  1.      1.008   1.      0.12    7.      2.7     3.24   -2.038   5.45 ]\n",
      " [  5.     14.006   2.      0.72    7.      2.7     3.24   -2.038   5.45 ]\n",
      " [  4.     12.011   2.    117.      7.      2.7     3.24   -2.038   5.45 ]\n",
      " [  1.      1.008   1.      0.12    8.      2.66    3.28   -1.834   5.54 ]\n",
      " [  5.     14.006   2.      0.72    8.      2.66    3.28   -1.834   5.54 ]\n",
      " [  4.     12.011   2.    117.      8.      2.66    3.28   -1.834   5.54 ]\n",
      " [  1.      1.008   1.      0.12    9.      2.62    3.23   -2.084   5.76 ]\n",
      " [  5.     14.006   2.      0.72    9.      2.62    3.23   -2.084   5.76 ]\n",
      " [  4.     12.011   2.    117.      9.      2.62    3.23   -2.084   5.76 ]\n",
      " [  1.      1.008   1.      0.12   10.      2.6     2.63   -2.082   5.77 ]\n",
      " [  5.     14.006   2.      0.72   10.      2.6     2.63   -2.082   5.77 ]\n",
      " [  4.     12.011   2.    117.     10.      2.6     2.63   -2.082   5.77 ]\n",
      " [  1.      1.008   1.      0.12   11.      2.67    1.96   -2.793   5.3  ]\n",
      " [  5.     14.006   2.      0.72   11.      2.67    1.96   -2.793   5.3  ]\n",
      " [  4.     12.011   2.    117.     11.      2.67    1.96   -2.793   5.3  ]\n",
      " [  1.      1.008   1.      0.12    3.      3.76    1.15   -0.822   3.46 ]\n",
      " [  5.     14.006   2.      0.72    3.      3.76    1.15   -0.822   3.46 ]\n",
      " [  4.     12.011   2.    117.      3.      3.76    1.15   -0.822   3.46 ]\n",
      " [  1.      1.008   1.      0.12    4.      3.35    1.75   -1.389   4.38 ]\n",
      " [  5.     14.006   2.      0.72    4.      3.35    1.75   -1.389   4.38 ]\n",
      " [  4.     12.011   2.    117.      4.      3.35    1.75   -1.389   4.38 ]\n",
      " [  1.      1.008   1.      0.12    5.      3.07    2.2    -1.548   4.63 ]\n",
      " [  5.     14.006   2.      0.72    5.      3.07    2.2    -1.548   4.63 ]\n",
      " [  4.     12.011   2.    117.      5.      3.07    2.2    -1.548   4.63 ]\n",
      " [  1.      1.008   1.      0.12    6.      2.99    2.64   -2.714   4.98 ]\n",
      " [  5.     14.006   2.      0.72    6.      2.99    2.64   -2.714   4.98 ]\n",
      " [  4.     12.011   2.    117.      6.      2.99    2.64   -2.714   4.98 ]\n",
      " [  1.      1.008   1.      0.12    8.      2.79    2.99   -3.026   5.33 ]\n",
      " [  5.     14.006   2.      0.72    8.      2.79    2.99   -3.026   5.33 ]\n",
      " [  4.     12.011   2.    117.      8.      2.79    2.99   -3.026   5.33 ]\n",
      " [  1.      1.008   1.      0.12    9.      2.81    2.53   -2.967   5.44 ]\n",
      " [  5.     14.006   2.      0.72    9.      2.81    2.53   -2.967   5.44 ]\n",
      " [  4.     12.011   2.    117.      9.      2.81    2.53   -2.967   5.44 ]\n",
      " [  1.      1.008   1.      0.12   10.      2.87    1.64   -2.334   5.53 ]\n",
      " [  5.     14.006   2.      0.72   10.      2.87    1.64   -2.334   5.53 ]\n",
      " [  4.     12.011   2.    117.     10.      2.87    1.64   -2.334   5.53 ]\n",
      " [  1.      1.008   1.      0.12   11.      3.01    1.21   -4.205   4.67 ]\n",
      " [  5.     14.006   2.      0.72   11.      3.01    1.21   -4.205   4.67 ]\n",
      " [  4.     12.011   2.    117.     11.      3.01    1.21   -4.205   4.67 ]\n",
      " [  1.      1.008   1.      0.12    4.      3.3     1.39   -1.705   4.54 ]\n",
      " [  5.     14.006   2.      0.72    4.      3.3     1.39   -1.705   4.54 ]\n",
      " [  4.     12.011   2.    117.      4.      3.3     1.39   -1.705   4.54 ]\n",
      " [  1.      1.008   1.      0.12    5.      3.07    2.27   -1.594   4.86 ]\n",
      " [  5.     14.006   2.      0.72    5.      3.07    2.27   -1.594   4.86 ]\n",
      " [  4.     12.011   2.    117.      5.      3.07    2.27   -1.594   4.86 ]\n",
      " [  1.      1.008   1.      0.12    6.      2.95    2.5    -3.01    5.09 ]\n",
      " [  5.     14.006   2.      0.72    6.      2.95    2.5    -3.01    5.09 ]\n",
      " [  4.     12.011   2.    117.      6.      2.95    2.5    -3.01    5.09 ]\n",
      " [  1.      1.008   1.      0.12    7.      2.87    3.28   -2.8     5.88 ]\n",
      " [  5.     14.006   2.      0.72    7.      2.87    3.28   -2.8     5.88 ]\n",
      " [  4.     12.011   2.    117.      7.      2.87    3.28   -2.8     5.88 ]\n",
      " [  1.      1.008   1.      0.12    8.      2.83    3.46   -3.712   6.25 ]\n",
      " [  5.     14.006   2.      0.72    8.      2.83    3.46   -3.712   6.25 ]\n",
      " [  4.     12.011   2.    117.      8.      2.83    3.46   -3.712   6.25 ]\n",
      " [  1.      1.008   1.      0.12    9.      2.84    3.41   -3.869   6.63 ]\n",
      " [  5.     14.006   2.      0.72    9.      2.84    3.41   -3.869   6.63 ]\n",
      " [  4.     12.011   2.    117.      9.      2.84    3.41   -3.869   6.63 ]\n",
      " [  1.      1.008   1.      0.12   10.      2.9     2.35   -3.18    6.74 ]\n",
      " [  5.     14.006   2.      0.72   10.      2.9     2.35   -3.18    6.74 ]\n",
      " [  4.     12.011   2.    117.     10.      2.9     2.35   -3.18    6.74 ]\n",
      " [  1.      1.008   1.      0.12   11.      3.      1.61   -3.766   6.01 ]\n",
      " [  5.     14.006   2.      0.72   11.      3.      1.61   -3.766   6.01 ]\n",
      " [  4.     12.011   2.    117.     11.      3.      1.61   -3.766   6.01 ]]\n"
     ]
    }
   ],
   "source": [
    "X = np.array(X)\n",
    "print(X)"
   ]
  },
  {
   "cell_type": "code",
   "execution_count": 20,
   "metadata": {},
   "outputs": [
    {
     "name": "stdout",
     "output_type": "stream",
     "text": [
      "[ 0.21500644 -2.77891977 -0.97297573  0.64544209 -2.14756565 -0.55995006\n",
      "  0.25887261 -1.75804592 -0.35337197 -0.57257058 -1.44556789 -0.64535081\n",
      " -1.23120757 -2.01454188 -0.79700101 -5.42221564 -8.67670646 -7.96859602\n",
      " -0.53302556 -3.2497513  -3.84029046 -1.48130585 -2.71665918 -1.80087208\n",
      " -2.67621867 -3.32171394 -1.76892799  0.1260361  -3.13467323 -0.89979873\n",
      "  0.35325406 -2.66005262 -0.99173519  0.01758025 -2.16720639 -0.51428398\n",
      " -0.66038296 -1.81490242 -0.81560298 -1.85642044 -2.04693873 -0.65525688\n",
      " -1.63304099 -2.26398258  0.04573106 -2.8389152  -3.0328087  -0.78177368\n",
      " -2.57803084 -3.40971251 -1.28451496  0.33961224 -2.52348735 -0.70737502\n",
      " -0.26437517 -2.31722725 -0.64056054 -0.73182685 -2.10326473 -0.84761504\n",
      " -1.14381816 -2.50834677 -0.91900249 -1.45921967 -2.13118188 -0.62019664\n",
      " -1.17111821 -2.22716653 -0.04736343 -2.142518   -2.94717805 -0.28621893\n",
      " -2.7924061  -3.10097126 -1.26438285]\n"
     ]
    }
   ],
   "source": [
    "y = np.array(y)\n",
    "print(y)"
   ]
  },
  {
   "cell_type": "markdown",
   "metadata": {},
   "source": [
    "## Above  X and y arrays are the final training/testing data for knn model. Before the optimization process, should you normalize the data ?"
   ]
  },
  {
   "cell_type": "markdown",
   "metadata": {},
   "source": [
    "## Bellow the architecture of your KNN model and worked on the data"
   ]
  },
  {
   "cell_type": "code",
   "execution_count": 21,
   "metadata": {},
   "outputs": [],
   "source": [
    "from sklearn.neighbors import KNeighborsRegressor\n",
    "from sklearn.model_selection import GridSearchCV\n",
    "from mlxtend.evaluate import PredefinedHoldoutSplit\n",
    "from sklearn.pipeline import make_pipeline\n",
    "from sklearn.model_selection import train_test_split\n",
    "from sklearn.preprocessing import StandardScaler\n",
    "from sklearn.decomposition import PCA"
   ]
  },
  {
   "cell_type": "markdown",
   "metadata": {},
   "source": [
    "### firstly, separate the data into training(80%) and testing(20%) randomly."
   ]
  },
  {
   "cell_type": "code",
   "execution_count": 22,
   "metadata": {},
   "outputs": [],
   "source": [
    "train_ind, valid_ind = train_test_split(np.arange(X.shape[0]),\n",
    "                                        test_size=0.2, shuffle=True,\n",
    "                                        random_state=123)"
   ]
  },
  {
   "cell_type": "markdown",
   "metadata": {},
   "source": [
    "### construct pip. the pip contains normalization data and then flow to knn regressionor."
   ]
  },
  {
   "cell_type": "code",
   "execution_count": 25,
   "metadata": {},
   "outputs": [],
   "source": [
    "pipe = make_pipeline(PCA(),StandardScaler(),\n",
    "                     KNeighborsRegressor())"
   ]
  },
  {
   "cell_type": "code",
   "execution_count": 26,
   "metadata": {},
   "outputs": [],
   "source": [
    "params = {'kneighborsregressor__n_neighbors': [1, 3, 5],\n",
    "          'kneighborsregressor__p': [1, 2],\n",
    "          'pca__n_components': [3,4,5,6,7,8,9]}"
   ]
  },
  {
   "cell_type": "markdown",
   "metadata": {},
   "source": [
    "### Use hold one out method for the evaluation of the prediction quality"
   ]
  },
  {
   "cell_type": "code",
   "execution_count": 27,
   "metadata": {},
   "outputs": [],
   "source": [
    "split = PredefinedHoldoutSplit(valid_indices=valid_ind)"
   ]
  },
  {
   "cell_type": "markdown",
   "metadata": {},
   "source": [
    "### grid search the optimized hyper-parameters."
   ]
  },
  {
   "cell_type": "code",
   "execution_count": 28,
   "metadata": {},
   "outputs": [],
   "source": [
    "grid = GridSearchCV(pipe,\n",
    "                    param_grid=params,\n",
    "                    cv=split)"
   ]
  },
  {
   "cell_type": "code",
   "execution_count": 29,
   "metadata": {},
   "outputs": [
    {
     "data": {
      "text/plain": [
       "GridSearchCV(cv=<mlxtend.evaluate.holdout.PredefinedHoldoutSplit object at 0x000001C1847BAC88>,\n",
       "       error_score='raise-deprecating',\n",
       "       estimator=Pipeline(memory=None,\n",
       "     steps=[('pca', PCA(copy=True, iterated_power='auto', n_components=None, random_state=None,\n",
       "  svd_solver='auto', tol=0.0, whiten=False)), ('standardscaler', StandardScaler(copy=True, with_mean=True, with_std=True)), ('kneighborsregressor', KNeighborsRegressor(algorithm='auto', leaf_size=30, metric='minkowski',\n",
       "          metric_params=None, n_jobs=None, n_neighbors=5, p=2,\n",
       "          weights='uniform'))]),\n",
       "       fit_params=None, iid='warn', n_jobs=None,\n",
       "       param_grid={'kneighborsregressor__n_neighbors': [1, 3, 5], 'kneighborsregressor__p': [1, 2], 'pca__n_components': [3, 4, 5, 6, 7, 8, 9]},\n",
       "       pre_dispatch='2*n_jobs', refit=True, return_train_score='warn',\n",
       "       scoring=None, verbose=0)"
      ]
     },
     "execution_count": 29,
     "metadata": {},
     "output_type": "execute_result"
    }
   ],
   "source": [
    "grid.fit(X, y)"
   ]
  },
  {
   "cell_type": "markdown",
   "metadata": {},
   "source": [
    "### Above is the detail of the present KNN model "
   ]
  },
  {
   "cell_type": "code",
   "execution_count": 30,
   "metadata": {},
   "outputs": [
    {
     "name": "stdout",
     "output_type": "stream",
     "text": [
      "0.724214301793895\n"
     ]
    }
   ],
   "source": [
    "print(grid.best_score_)"
   ]
  }
 ],
 "metadata": {
  "kernelspec": {
   "display_name": "Python 3",
   "language": "python",
   "name": "python3"
  },
  "language_info": {
   "codemirror_mode": {
    "name": "ipython",
    "version": 3
   },
   "file_extension": ".py",
   "mimetype": "text/x-python",
   "name": "python",
   "nbconvert_exporter": "python",
   "pygments_lexer": "ipython3",
   "version": "3.6.5"
  }
 },
 "nbformat": 4,
 "nbformat_minor": 2
}
