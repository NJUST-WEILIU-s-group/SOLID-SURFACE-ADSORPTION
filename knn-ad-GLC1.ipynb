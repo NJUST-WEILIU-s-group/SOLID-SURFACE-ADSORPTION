{
 "cells": [
  {
   "cell_type": "code",
<<<<<<< HEAD
   "execution_count": 23,
=======
   "execution_count": 15,
>>>>>>> 233cdc2a126e07089cd37b4019eb6b61de2a67c7
   "metadata": {},
   "outputs": [],
   "source": [
    "import numpy as np\n",
    "import pandas as pd"
   ]
  },
  {
   "cell_type": "code",
<<<<<<< HEAD
   "execution_count": 24,
=======
   "execution_count": 16,
>>>>>>> 233cdc2a126e07089cd37b4019eb6b61de2a67c7
   "metadata": {
    "scrolled": true
   },
   "outputs": [
    {
     "name": "stdout",
     "output_type": "stream",
     "text": [
      "          G    R  AN       AM  P    EN      IE     FUS      ρ    Rs  \\\n",
      "Element                                                               \n",
      "H         1   32   1    1.008  1  2.20  1311.3    0.12   0.07     -   \n",
      "O         6   73   8   15.999  2  3.44  1313.1    0.44   1.15     -   \n",
      "N         5   75   7   14.006  2  3.04  1401.5    0.72   0.81     -   \n",
      "C         4   77   6   12.011  2  2.55  1085.7  117.00   2.25     -   \n",
      "Sc        3  144  21   44.956  4  1.36   630.8   15.80   2.99  3.43   \n",
      "Ti        4  132  22   47.867  4  1.54   657.8   18.80   4.54  3.05   \n",
      "V         5  122  23   50.941  4  1.63   650.1   17.50   6.11  2.82   \n",
      "Cr        6  118  24   51.999  4  1.66   652.4   21.00   7.18  2.68   \n",
      "Mn        7  117  25   54.938  4  1.55   716.8   13.40   7.21   2.7   \n",
      "Fe        8  117  26   55.847  4  1.83   759.1   13.80   7.87  2.66   \n",
      "Co        9  116  27   58.933  4  1.88   758.1   15.48   8.90  2.62   \n",
      "Ni       10  115  28   58.693  4  1.91   736.2   17.61   8.90   2.6   \n",
      "Cu       11  117  29   63.546  4  1.90   745.0   13.01   8.96  2.67   \n",
      "Y         3  162  39   88.905  5  1.22   615.4   11.50   4.47  3.76   \n",
      "Zr        4  145  40   91.224  5  1.33   659.7   19.00   6.50  3.35   \n",
      "Nb        5  164  41   92.902  5  1.60   663.6   26.80   8.57  3.07   \n",
      "Mo        6  130  42   95.960  5  2.16   684.8   28.00  10.22  2.99   \n",
      "Ru        8  125  44  101.070  5  2.20   710.3   25.50  12.41  2.79   \n",
      "Rh        9  125  45  102.905  5  2.28   719.5   21.80  12.41  2.81   \n",
      "Pd       10  128  46  106.420  5  2.20   803.5   17.24  12.02  2.87   \n",
      "Ag       11  134  47  107.868  5  1.93   730.5   11.95  10.50  3.01   \n",
      "Hf        4  144  72  178.490  6  1.30   575.2   25.10  13.31   3.3   \n",
      "Ta        5  134  73  180.950  6  1.50   760.1   24.70  16.65  3.07   \n",
      "W         6  162  74  183.840  6  2.36   769.7   35.00  19.30  2.95   \n",
      "Re        7  128  75  186.207  6  1.90   759.1   34.00  21.02  2.87   \n",
      "Os        8  126  76  190.230  6  2.20   819.8   31.70  22.57  2.83   \n",
      "Ir        9  127  77  192.217  6  2.20   868.1   26.00  22.56  2.84   \n",
      "Pt       10  130  78  195.080  6  2.28   868.1   21.76  21.09   2.9   \n",
      "Au       11  134  79  196.966  6  2.54   889.3   12.68  19.30     3   \n",
      "\n",
      "         d band center  work function  surface energy  \n",
      "Element                                                \n",
      "H                  NaN            NaN             NaN  \n",
      "O                  NaN            NaN             NaN  \n",
      "N                  NaN            NaN             NaN  \n",
      "C                  NaN            NaN             NaN  \n",
      "Sc              -0.751           3.84            0.76  \n",
      "Ti              -1.247           4.63            1.56  \n",
      "V               -1.226           4.88            2.55  \n",
      "Cr              -2.123           5.27            3.09  \n",
      "Mn              -2.038           5.45            3.24  \n",
      "Fe              -1.834           5.54            3.28  \n",
      "Co              -2.084           5.76            3.23  \n",
      "Ni              -2.082           5.77            2.63  \n",
      "Cu              -2.793           5.30            1.96  \n",
      "Y               -0.822           3.46            1.15  \n",
      "Zr              -1.389           4.38            1.75  \n",
      "Nb              -1.548           4.63            2.20  \n",
      "Mo              -2.714           4.98            2.64  \n",
      "Ru              -3.026           5.33            2.99  \n",
      "Rh              -2.967           5.44            2.53  \n",
      "Pd              -2.334           5.53            1.64  \n",
      "Ag              -4.205           4.67            1.21  \n",
      "Hf              -1.705           4.54            1.39  \n",
      "Ta              -1.594           4.86            2.27  \n",
      "W               -3.010           5.09            2.50  \n",
      "Re              -2.800           5.88            3.28  \n",
      "Os              -3.712           6.25            3.46  \n",
      "Ir              -3.869           6.63            3.41  \n",
      "Pt              -3.180           6.74            2.35  \n",
      "Au              -3.766           6.01            1.61  \n"
     ]
    }
   ],
   "source": [
    "a = pd.read_excel(\"EP.xlsx\", index_col=\"Element\")\n",
    "print(a)"
   ]
  },
  {
   "cell_type": "markdown",
   "metadata": {},
   "source": [
    "### Add discriptions for the varialbes of each column above"
   ]
  },
  {
   "cell_type": "code",
<<<<<<< HEAD
   "execution_count": 25,
=======
   "execution_count": 17,
>>>>>>> 233cdc2a126e07089cd37b4019eb6b61de2a67c7
   "metadata": {
    "scrolled": false
   },
   "outputs": [
    {
     "name": "stdout",
     "output_type": "stream",
     "text": [
      "['OH,Sc,0.215006441665615\\n', 'NO,Sc,-2.7789197666245364\\n', 'CO,Sc,-0.972975729342739\\n', 'OH,Ti,0.6454420926545978\\n', 'NO,Ti,-2.1475656462025334\\n', 'CO,Ti,-0.5599500559394706\\n', 'OH,V,0.2588726116566491\\n', 'NO,V,-1.758045918481951\\n', 'CO,V,-0.3533719703774416\\n', 'OH,Cr,-0.5725705816942153\\n', 'NO,Cr,-1.4455678929367188\\n', 'CO,Cr,-0.6453508141429474\\n', 'OH,Mn,-1.231207566169381\\n', 'NO,Mn,-2.0145418838996214\\n', 'CO,Mn,-0.7970010110110941\\n', 'OH,Fe,-5.422215635035876\\n', 'NO,Fe,-8.676706457662728\\n', 'CO,Fe,-7.968596022949203\\n', 'OH,Co,-0.5330255557483738\\n', 'NO,Co,-3.2497512980534218\\n', 'CO,Co,-3.840290455987944\\n', 'OH,Ni,-1.4813058495692673\\n', 'NO,Ni,-2.716659181216489\\n', 'CO,Ni,-1.8008720839670183\\n', 'OH,Cu,-2.6762186673134636\\n', 'NO,Cu,-3.3217139363376766\\n', 'CO,Cu,-1.7689279898675103\\n', 'OH,Y,0.12603610181747626\\n', 'NO,Y,-3.1346732258677683\\n', 'CO,Y,-0.8997987274496246\\n', 'OH,Zr,0.35325405995924797\\n', 'NO,Zr,-2.6600526249215584\\n', 'CO,Zr,-0.9917351857023995\\n', 'OH,Nb,0.017580247897797108\\n', 'NO,Nb,-2.1672063900258145\\n', 'CO,Nb,-0.514283982664022\\n', 'OH,Mo,-0.6603829564993404\\n', 'NO,Mo,-1.8149024171479873\\n', 'CO,Mo,-0.8156029770298296\\n', 'OH,Ru,-1.8564204350284186\\n', 'NO,Ru,-2.046938726214318\\n', 'CO,Ru,-0.655256880555303\\n', 'OH,Rh,-1.6330409926279899\\n', 'NO,Rh,-2.263982576911655\\n', 'CO,Rh,0.04573105542436551\\n', 'OH,Pd,-2.838915199034666\\n', 'NO,Pd,-3.0328087037198266\\n', 'CO,Pd,-0.7817736763878962\\n', 'OH,Ag,-2.578030843849703\\n', 'NO,Ag,-3.409712505022018\\n', 'CO,Ag,-1.2845149641194489\\n', 'OH,Hf,0.33961223874234747\\n', 'NO,Hf,-2.5234873465421153\\n', 'CO,Hf,-0.7073750219914707\\n', 'OH,Ta,-0.2643751748366512\\n', 'NO,Ta,-2.3172272493963426\\n', 'CO,Ta,-0.6405605422654013\\n', 'OH,W,-0.7318268463145827\\n', 'NO,W,-2.1032647342944237\\n', 'CO,W,-0.8476150425466251\\n', 'OH,Re,-1.1438181630972863\\n', 'NO,Re,-2.508346766005925\\n', 'CO,Re,-0.9190024889967567\\n', 'OH,Os,-1.4592196655489218\\n', 'NO,Os,-2.131181882674735\\n', 'CO,Os,-0.6201966364622429\\n', 'OH,Ir,-1.1711182073136612\\n', 'NO,Ir,-2.2271665308082866\\n', 'CO,Ir,-0.047363425986876706\\n', 'OH,Pt,-2.1425180037547804\\n', 'NO,Pt,-2.947178049615143\\n', 'CO,Pt,-0.28621893055893466\\n', 'OH,Au,-2.792406102487604\\n', 'NO,Au,-3.1009712639603073\\n', 'CO,Au,-1.2643828540417594\\n']\n"
     ]
    }
   ],
   "source": [
    "aa = open(\"RPA_adsorp_double.txt\", \"r\")\n",
    "nn = aa.readlines()\n",
    "print(nn)"
   ]
  },
  {
   "cell_type": "markdown",
   "metadata": {},
   "source": [
    "### Above data should plot a curve, to see the possible trend of the adsorption energy"
   ]
  },
  {
   "cell_type": "code",
<<<<<<< HEAD
   "execution_count": 26,
=======
   "execution_count": 18,
>>>>>>> 233cdc2a126e07089cd37b4019eb6b61de2a67c7
   "metadata": {},
   "outputs": [],
   "source": [
    "X = []\n",
    "y = []\n",
    "for i in range(len(nn)):\n",
    "    sub = str(nn[i].replace(\",\", \" \").split()[0])\n",
    "    sur = str(nn[i].replace(\",\", \" \").split()[1])\n",
    "    en = float(nn[i].replace(\",\", \" \").split()[2])\n",
    "    if sub == \"OH\":\n",
    "        mol = \"H\"\n",
    "    elif sub == \"NO\":\n",
    "        mol = \"N\"\n",
    "    else:\n",
    "        mol = \"C\"\n",
    "    xi = []\n",
    "    yi = en\n",
    "    xi.append(a.loc[mol, \"G\"])\n",
    "    xi.append(a.loc[mol, \"AM\"])\n",
    "    xi.append(a.loc[mol, \"P\"])\n",
    "    xi.append(a.loc[mol, \"FUS\"])\n",
    "    xi.append(a.loc[sur, \"G\"])\n",
    "    xi.append(a.loc[sur, \"Rs\"])\n",
    "    xi.append(a.loc[sur, \"surface energy\"])\n",
    "    xi.append(a.loc[sur, \"d band center\"])\n",
    "    xi.append(a.loc[sur, \"work function\"])\n",
    "    X.append(xi)\n",
    "    y.append(yi)"
   ]
  },
  {
   "cell_type": "code",
<<<<<<< HEAD
   "execution_count": 27,
=======
   "execution_count": 19,
>>>>>>> 233cdc2a126e07089cd37b4019eb6b61de2a67c7
   "metadata": {},
   "outputs": [
    {
     "name": "stdout",
     "output_type": "stream",
     "text": [
      "[[  1.      1.008   1.      0.12    3.      3.43    0.76   -0.751   3.84 ]\n",
      " [  5.     14.006   2.      0.72    3.      3.43    0.76   -0.751   3.84 ]\n",
      " [  4.     12.011   2.    117.      3.      3.43    0.76   -0.751   3.84 ]\n",
      " [  1.      1.008   1.      0.12    4.      3.05    1.56   -1.247   4.63 ]\n",
      " [  5.     14.006   2.      0.72    4.      3.05    1.56   -1.247   4.63 ]\n",
      " [  4.     12.011   2.    117.      4.      3.05    1.56   -1.247   4.63 ]\n",
      " [  1.      1.008   1.      0.12    5.      2.82    2.55   -1.226   4.88 ]\n",
      " [  5.     14.006   2.      0.72    5.      2.82    2.55   -1.226   4.88 ]\n",
      " [  4.     12.011   2.    117.      5.      2.82    2.55   -1.226   4.88 ]\n",
      " [  1.      1.008   1.      0.12    6.      2.68    3.09   -2.123   5.27 ]\n",
      " [  5.     14.006   2.      0.72    6.      2.68    3.09   -2.123   5.27 ]\n",
      " [  4.     12.011   2.    117.      6.      2.68    3.09   -2.123   5.27 ]\n",
      " [  1.      1.008   1.      0.12    7.      2.7     3.24   -2.038   5.45 ]\n",
      " [  5.     14.006   2.      0.72    7.      2.7     3.24   -2.038   5.45 ]\n",
      " [  4.     12.011   2.    117.      7.      2.7     3.24   -2.038   5.45 ]\n",
      " [  1.      1.008   1.      0.12    8.      2.66    3.28   -1.834   5.54 ]\n",
      " [  5.     14.006   2.      0.72    8.      2.66    3.28   -1.834   5.54 ]\n",
      " [  4.     12.011   2.    117.      8.      2.66    3.28   -1.834   5.54 ]\n",
      " [  1.      1.008   1.      0.12    9.      2.62    3.23   -2.084   5.76 ]\n",
      " [  5.     14.006   2.      0.72    9.      2.62    3.23   -2.084   5.76 ]\n",
      " [  4.     12.011   2.    117.      9.      2.62    3.23   -2.084   5.76 ]\n",
      " [  1.      1.008   1.      0.12   10.      2.6     2.63   -2.082   5.77 ]\n",
      " [  5.     14.006   2.      0.72   10.      2.6     2.63   -2.082   5.77 ]\n",
      " [  4.     12.011   2.    117.     10.      2.6     2.63   -2.082   5.77 ]\n",
      " [  1.      1.008   1.      0.12   11.      2.67    1.96   -2.793   5.3  ]\n",
      " [  5.     14.006   2.      0.72   11.      2.67    1.96   -2.793   5.3  ]\n",
      " [  4.     12.011   2.    117.     11.      2.67    1.96   -2.793   5.3  ]\n",
      " [  1.      1.008   1.      0.12    3.      3.76    1.15   -0.822   3.46 ]\n",
      " [  5.     14.006   2.      0.72    3.      3.76    1.15   -0.822   3.46 ]\n",
      " [  4.     12.011   2.    117.      3.      3.76    1.15   -0.822   3.46 ]\n",
      " [  1.      1.008   1.      0.12    4.      3.35    1.75   -1.389   4.38 ]\n",
      " [  5.     14.006   2.      0.72    4.      3.35    1.75   -1.389   4.38 ]\n",
      " [  4.     12.011   2.    117.      4.      3.35    1.75   -1.389   4.38 ]\n",
      " [  1.      1.008   1.      0.12    5.      3.07    2.2    -1.548   4.63 ]\n",
      " [  5.     14.006   2.      0.72    5.      3.07    2.2    -1.548   4.63 ]\n",
      " [  4.     12.011   2.    117.      5.      3.07    2.2    -1.548   4.63 ]\n",
      " [  1.      1.008   1.      0.12    6.      2.99    2.64   -2.714   4.98 ]\n",
      " [  5.     14.006   2.      0.72    6.      2.99    2.64   -2.714   4.98 ]\n",
      " [  4.     12.011   2.    117.      6.      2.99    2.64   -2.714   4.98 ]\n",
      " [  1.      1.008   1.      0.12    8.      2.79    2.99   -3.026   5.33 ]\n",
      " [  5.     14.006   2.      0.72    8.      2.79    2.99   -3.026   5.33 ]\n",
      " [  4.     12.011   2.    117.      8.      2.79    2.99   -3.026   5.33 ]\n",
      " [  1.      1.008   1.      0.12    9.      2.81    2.53   -2.967   5.44 ]\n",
      " [  5.     14.006   2.      0.72    9.      2.81    2.53   -2.967   5.44 ]\n",
      " [  4.     12.011   2.    117.      9.      2.81    2.53   -2.967   5.44 ]\n",
      " [  1.      1.008   1.      0.12   10.      2.87    1.64   -2.334   5.53 ]\n",
      " [  5.     14.006   2.      0.72   10.      2.87    1.64   -2.334   5.53 ]\n",
      " [  4.     12.011   2.    117.     10.      2.87    1.64   -2.334   5.53 ]\n",
      " [  1.      1.008   1.      0.12   11.      3.01    1.21   -4.205   4.67 ]\n",
      " [  5.     14.006   2.      0.72   11.      3.01    1.21   -4.205   4.67 ]\n",
      " [  4.     12.011   2.    117.     11.      3.01    1.21   -4.205   4.67 ]\n",
      " [  1.      1.008   1.      0.12    4.      3.3     1.39   -1.705   4.54 ]\n",
      " [  5.     14.006   2.      0.72    4.      3.3     1.39   -1.705   4.54 ]\n",
      " [  4.     12.011   2.    117.      4.      3.3     1.39   -1.705   4.54 ]\n",
      " [  1.      1.008   1.      0.12    5.      3.07    2.27   -1.594   4.86 ]\n",
      " [  5.     14.006   2.      0.72    5.      3.07    2.27   -1.594   4.86 ]\n",
      " [  4.     12.011   2.    117.      5.      3.07    2.27   -1.594   4.86 ]\n",
      " [  1.      1.008   1.      0.12    6.      2.95    2.5    -3.01    5.09 ]\n",
      " [  5.     14.006   2.      0.72    6.      2.95    2.5    -3.01    5.09 ]\n",
      " [  4.     12.011   2.    117.      6.      2.95    2.5    -3.01    5.09 ]\n",
      " [  1.      1.008   1.      0.12    7.      2.87    3.28   -2.8     5.88 ]\n",
      " [  5.     14.006   2.      0.72    7.      2.87    3.28   -2.8     5.88 ]\n",
      " [  4.     12.011   2.    117.      7.      2.87    3.28   -2.8     5.88 ]\n",
      " [  1.      1.008   1.      0.12    8.      2.83    3.46   -3.712   6.25 ]\n",
      " [  5.     14.006   2.      0.72    8.      2.83    3.46   -3.712   6.25 ]\n",
      " [  4.     12.011   2.    117.      8.      2.83    3.46   -3.712   6.25 ]\n",
      " [  1.      1.008   1.      0.12    9.      2.84    3.41   -3.869   6.63 ]\n",
      " [  5.     14.006   2.      0.72    9.      2.84    3.41   -3.869   6.63 ]\n",
      " [  4.     12.011   2.    117.      9.      2.84    3.41   -3.869   6.63 ]\n",
      " [  1.      1.008   1.      0.12   10.      2.9     2.35   -3.18    6.74 ]\n",
      " [  5.     14.006   2.      0.72   10.      2.9     2.35   -3.18    6.74 ]\n",
      " [  4.     12.011   2.    117.     10.      2.9     2.35   -3.18    6.74 ]\n",
      " [  1.      1.008   1.      0.12   11.      3.      1.61   -3.766   6.01 ]\n",
      " [  5.     14.006   2.      0.72   11.      3.      1.61   -3.766   6.01 ]\n",
      " [  4.     12.011   2.    117.     11.      3.      1.61   -3.766   6.01 ]]\n"
     ]
    }
   ],
   "source": [
    "X = np.array(X)\n",
    "print(X)"
   ]
  },
  {
   "cell_type": "code",
<<<<<<< HEAD
   "execution_count": 28,
=======
   "execution_count": 20,
>>>>>>> 233cdc2a126e07089cd37b4019eb6b61de2a67c7
   "metadata": {},
   "outputs": [
    {
     "name": "stdout",
     "output_type": "stream",
     "text": [
      "[ 0.21500644 -2.77891977 -0.97297573  0.64544209 -2.14756565 -0.55995006\n",
      "  0.25887261 -1.75804592 -0.35337197 -0.57257058 -1.44556789 -0.64535081\n",
      " -1.23120757 -2.01454188 -0.79700101 -5.42221564 -8.67670646 -7.96859602\n",
      " -0.53302556 -3.2497513  -3.84029046 -1.48130585 -2.71665918 -1.80087208\n",
      " -2.67621867 -3.32171394 -1.76892799  0.1260361  -3.13467323 -0.89979873\n",
      "  0.35325406 -2.66005262 -0.99173519  0.01758025 -2.16720639 -0.51428398\n",
      " -0.66038296 -1.81490242 -0.81560298 -1.85642044 -2.04693873 -0.65525688\n",
      " -1.63304099 -2.26398258  0.04573106 -2.8389152  -3.0328087  -0.78177368\n",
      " -2.57803084 -3.40971251 -1.28451496  0.33961224 -2.52348735 -0.70737502\n",
      " -0.26437517 -2.31722725 -0.64056054 -0.73182685 -2.10326473 -0.84761504\n",
      " -1.14381816 -2.50834677 -0.91900249 -1.45921967 -2.13118188 -0.62019664\n",
      " -1.17111821 -2.22716653 -0.04736343 -2.142518   -2.94717805 -0.28621893\n",
      " -2.7924061  -3.10097126 -1.26438285]\n"
     ]
    }
   ],
   "source": [
    "y = np.array(y)\n",
    "print(y)"
   ]
  },
  {
   "cell_type": "markdown",
   "metadata": {},
   "source": [
    "### Plot the correlation matrix of features"
   ]
  },
  {
   "cell_type": "code",
   "execution_count": 29,
   "metadata": {},
   "outputs": [
    {
     "data": {
      "image/png": "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\n",
      "text/plain": [
       "<Figure size 432x288 with 2 Axes>"
      ]
     },
     "metadata": {
      "needs_background": "light"
     },
     "output_type": "display_data"
    }
   ],
   "source": [
    "import matplotlib.pyplot as plt\n",
    "import matplotlib\n",
    "matplotlib.rcParams['xtick.direction'] = 'in'\n",
    "matplotlib.rcParams['ytick.direction'] = 'in'\n",
    "\n",
    "symbol = [\"G\",\"AM\",\"P\",\"FUS\",\"sur-G\",\"RS\",\"sur-E\",\"d band\",\"W\"]\n",
    "m = np.corrcoef(X.T)\n",
    "fea = np.arange(1,len(X[0])+1,1)\n",
    "\n",
    "fig = plt.figure()\n",
    "ax = fig.add_subplot(111)\n",
    "cax = ax.matshow(m, cmap='rainbow', vmin=-1, vmax=1)\n",
    "fig.colorbar(cax)\n",
    "ticks = np.arange(0,len(fea),1)\n",
    "ax.set_xticks(ticks)\n",
    "ax.set_yticks(ticks)\n",
    "ax.set_xticklabels(symbol)\n",
    "ax.set_yticklabels(symbol)\n",
    "valfmt = matplotlib.ticker.StrMethodFormatter(\"{x:.2f}\")\n",
    "for i in range(m.shape[0]):\n",
    "    for j in range(m.shape[1]):\n",
    "        text = plt.text(j, i, valfmt(m[i, j], None),dict(horizontalalignment=\"center\",verticalalignment=\"center\"))\n",
    "plt.show()"
   ]
  },
  {
   "cell_type": "markdown",
   "metadata": {},
   "source": [
    "### Plot the distribution of features "
   ]
  },
  {
   "cell_type": "code",
   "execution_count": 30,
   "metadata": {},
   "outputs": [
    {
     "data": {
      "image/png": "iVBORw0KGgoAAAANSUhEUgAAAagAAAEaCAYAAABEsMO+AAAABHNCSVQICAgIfAhkiAAAAAlwSFlzAAALEgAACxIB0t1+/AAAADl0RVh0U29mdHdhcmUAbWF0cGxvdGxpYiB2ZXJzaW9uIDIuMi4wLCBodHRwOi8vbWF0cGxvdGxpYi5vcmcvFvnyVgAAIABJREFUeJzt3Xu8XHV97vHPw0WhiAJNwAjIRuWoiBowIhWrCOqJoAQVFHpKEelJ9eBRq20Jeo701FOMxUtptVgEJBwRoSgaFREaRdQikHARKCAIAdOkJFyUcBEMPOePtXaYbPZlZe89a62Zed6v137NrLXXzHxnzW/Wd9Zv/S6yTURERNts0nQAERERo0mCioiIVkqCioiIVkqCioiIVkqCioiIVkqCioiIVtqs6QAiIoZJWg6sBR4H1tmeI2k74FxgCFgOvNP2/U3FGPVRG/tBzZgxw0NDQ02HERUtW7bsHtsz63itlI3esrFlo0xQc2zf07Hu74D7bC+UtADY1vZxnY9LuegtVctFK8+ghoaGWLp0adNhREWS7qzrtVI2ess0lY15wH7l/UXApcAGCSrlordULRetTFCjGVrw3UrbLV94UJcjaY/p3Ce9vH97OfYmVd1vVU3T/jVwsSQD/2z7VGAH26sAbK+StP3IB61Zs4Y5c+asX54/fz7z58+fjnhiDHV873omQUXEQNjX9soyCV0i6eYqD5o5c2bOoPpQWvFFRGvYXlnergYuAPYG7pY0C6C8Xd1chFGnJKiIaAVJW0naevg+8CbgBmAxcFS52VHAt5qJMOqWKr6IaIsdgAskQXFs+qrtiyRdBZwn6RjgLuCwBmOMGnUtQUnaGTgLeDbwBHCq7ZPTpyFSNmI0tm8HXj7K+nuBA+qPKJrWzSq+dcBHbL8Y2Ac4VtLuwAJgie3dgCXlcgyWlI2ImFDXEpTtVbavLu+vBW4CdqTo07Co3GwRcEi3Yoh2StmIiCpqaSQhaQjYE7iCEX0agKf0aYjBkbIREWPpeiMJSc8Avg58yPYD5QXQcY3W6a74gR39JGUjIsbT1QQlaXOKA9DZtr9Rrr5b0qyyR/iofRpG63R34jT3eo9mpWxExES6VsWn4ufw6cBNtj/b8a/0aRhwKRsRUUU3z6D2BY4Erpd0bbnuo8BC0qdh0KVsRMSEupagbP8EGOuiQvo0DLCUjYioIkMdRUREKyVBRUREKyVBRUREKyVBRUREKyVBRUREKyVBRUREKyVBRUREK2XCwojoS0MVh8BavvCgLkcSk5UzqIiIaKUkqIiIaKUkqIiIaKUkqIiIaKUkqIiIaKUkqIiIaKUkqIiIaKUkqIiIaKUkqIiIaKUkqIiIaKUkqIiIaKUkqIiIaKUkqIiIaKUkqIiIaKUkqIiIaKUkqIiIaKVGEpSkuZJukXSbpAVNxDCaU089tekQpmzttRc1HcKUtLVsjKat5aWtcU3FZMpFr38XoD8+y6m8h9oTlKRNgS8AbwZ2B46QtHvdcYymHwrDg9f17peyzWVjNG0tL22Na7ImWy56+bswrB8+y55KUMDewG22b7f9GPA1YF4DcUT7pGzEaFIuBpRs1/uC0qHAXNt/Wi4fCbzK9vs7tlnLhslzDXBPDeHNqOl1uqmJ97CL7ZlTfZKWl43RtLW8tCmuKZeNKZQLaM9+mKw2fZaTNdp7qFQuNutOPOPSKOs2yJK2t64plmiXlI0YTcrFgGqiim8FsHPH8k7AygbiiPZJ2YjRpFwMqCYS1FXAbpJ2lfQ04HBgcQNxRPukbMRoUi4GVO1VfLbXSXo/8H1gU+AM2zfWHUe0T8pGjCblYnDV3kiibSTtDJwFPBt4AjjV9snNRjU5ZXPcpcB/2H5L0/H0K0nLgbXA48A623MaiuMM4C3Aatt7lOu2A84FhoDlwDtt399EfHUZbT+M+L+Ak4EDgYeBd9u+ut4ox1Yh/v2AbwF3lKu+Yftv6otwYlWOo5P5HDKSBKwDPmL7xcA+wLFt7nszgQ8CNzUdxIB4ve3ZTSWn0pnA3BHrFgBLbO8GLCmX+92ZPHU/dHozsFv5Nx84pYaYNsaZjB8/wI/L8ja7bcmpVOU4utGfw8AnKNurhrO47bUUB/gdm41q40naCTgIOK3pWKIeti8D7huxeh6wqLy/CDik1qAaMMZ+6DQPOMuFnwHbSJpVT3QTqxB/61U8jm705zDwCaqTpCFgT+CKZiOZlL8H/ori9Dq6y8DFkpZJmt90MCPsYHsVFAcNYPuG42mDHYFfdSyvoPd+hP6BpOskfU/SS5oOZjzjHEc3+nNooh9UK0l6BvB14EO2H2g6no0habj+ellZXx3dta/tlZK2By6RdHP5KzjaacJ+VC13NUXH1gclHQh8k6KarHUmOI5u9OeQMyhA0uYUO/Vs299oOp5J2Bc4uLx4/zVgf0lfaTak/mV7ZXm7GriAYiietrh7uNqkvF3dcDxt0NP9qGw/YPvB8v6FwOaSZjQc1lNUOI5u9Ocw8AmqbFlyOnCT7c82Hc9k2D7e9k62hyj6iPzA9h83HFZfkrSVpK2H7wNvAm5oNqoNLAaOKu8fRdH6a9AtBv5EhX2A3wxXg/YCSc8uj1NI2pviuH1vs1FtqOJxdKM/h1TxFWcfRwLXS7q2XPfR8pdKxEg7ABeUx4vNgK/abmTYbEnnAPsBMyStAE4AFgLnSToGuAs4rInY6jTGftgcwPYXgQspmjbfRtG8+ehmIh1dhfgPBd4naR3wCHC429c/aNTjKPBcmPznMPD9oCIiop0GvoovIiLaKQkqIiJaKQkqIiJaKQkqIiJaKQkqIiJaKQmqBpJ2kPRVSbeXw+NcLultTccV9ZP0NkmW9KJyeahc/kTHNjMk/U7S55uLNJok6XFJ10q6QdK/SPq9pmNqQhJUl5Ud2L4JXGb7ebZfQdGZdqdmI4uGHAH8hKIMDLudYrqFYYcBme9osD1Sjly+B/AY8N6mA2pCElT37Q88VnZUA8D2nbb/scGYogHlOGX7AsewYYJ6BLhJ0vDUHe8Czqs5vGivHwMvaDqIJiRBdd9LKAZ7jDgEuMj2L4D7JO3V8b+vAYeX06Y8Tg+NFRfdI2kzinmUrm86liYkQdVM0hfKYfOvajqWqN0RFImI8vaIjv9dBLyxXHduzXFF+2xZDhm0lGLIqtMbjqcRGYuv+24E3jG8YPvYciTipc2FFHWT9PsU1b17SDKwKcVUA/8EYPsxScuAj1Ccdb+1qVijFR6xPbvpIJqWM6ju+wGwhaT3dawbyBY5A+5QitlEd7E9ZHtn4A42bCzzGeA4260aqTqiKUlQXVaOOnwI8DpJd0i6kmIq7uOajSxqdgTF3FGdvk4x4jMAtm+0vYiIADKaeUREtFTOoCIiopWSoCIiopUmTFCSPijpmeU0vadLulrSm+oILiIiBleVM6j32H4AeBMwk2Ka3oVdjSoiIgZelQSl8vZA4Mu2r+tYFxER0RVVEtQySRdTJKjvS9oaeKK7YUVExKCbsJm5pE2A2cDttn9d9ojf0fbP6wgwIiIGU5UzKAO7Ax8ol7cCtuhaRBEREVQ7gzqFokpvf9svlrQtcLHtV9YRYEREDKYqg8W+yvZekq4BsH2/pKd1Oa6IiBhwVar4fidpeORlJM0kjSQiIqLLqiSof6AY5HJ7SX9LMV31iV2NKiIiBl6lwWIlvQg4gKL/0xLbN3U7sIiIGGxjJihJ2433QNv3dSWiiIgIxk9Qd1Bcdxpt1Ajbfl43A4uIiMGW+aAiIqKVqjQzR9LbgddQnFH92PY3uxpVREQMvCoddf8JeAFwTrnqXcAvbR/b5dgiImKAVUlQNwJ7uNywHJvvetsvqSG+iIgYUFX6Qd0CPLdjeWcgA8VGRERXVTmD+hHwSuDKctUrgcuBhwFsH9zNACMiYjBVaSTx8a5HERERMULlZuaSnklHQktH3YiI6KYJz6AkzQc+ATxCMUisKJqbp6NuRER0TZVrULcCf2D7nnpCioiIqNaK75eUDSIiIiLqUuUMak/gy8AVwKPD621/YMwHPfnY5cBa4HFgne055SC05wJDwHLgnbbvn1z4ERHRr6okqCsp5oC6no6JCm0vmvDJiwQ1p7N6UNLfAffZXihpAbCt7eM6HzdjxgwPDQ1txNuIJi1btuwe2zPreK2Ujd5SV9lIuegtVctFlWbm62x/eBpiGjYP2K+8vwi4FNggQQ0NDbF06dJpfMnoJkl31vVaKRu9pa6ykXLRW6qWiyoJ6odlS75vs2EVX5Vm5gYulmTgn22fCuxge1X5HKskbT/yQWvWrGHOnDnrl+fPn8+Jt+9Y4eVg+cKDKm0Xg2dowXdrf83pLo9NvIeq2vbdq7qv2hZ3PKlKgvqj8vb4jnVVm5nva3tlmYQukXRzlaBmzpz5lF9DJ7b4ixkREdNvwgRle9fJPrntleXtakkXAHsDd0uaVZ49zQJWT/b5IyKif1WdD2oPYHdgi+F1ts+a4DFbAZvYXlvefxPwN8Bi4ChgYXn7rcmFHhER/azKSBInUDRq2B24EHgzRau+cRMUsANwgaTh1/mq7YskXQWcJ+kY4C7gsElHHxERfavKGdShwMuBa2wfLWkH4LSJHmT79vJxI9ffCxywsYFGRMRgqTKSxCO2nwDWlQPGribj8EVERJdVOYNaKmkb4EvAMuBBnpwbKiIiOqR5+/Sp0orvf5R3vyjpIuCZtjOjbkREdNWEVXyS9i1b4QG8Bni3pF26G1ZERAy6KtegTgEelvRy4K+AO5m4BV9ERMSUVElQ61yMKDsPONn2ycDW3Q0rIiIGXZVGEmslHQ/8MfBaSZsCm3c3rIiIGHRVzqDeRTFI7DG2/xPYETipq1FFRMTAq9KK7z+Bz3Ys30WuQUWLtHmE76r64T30quz79qpyBhVRG0nLJV0v6VpJmeBngEg6Q9JqSTd0rNtO0iWSbi1vt20yxqhXElS00ettz7Y9Z+JNo4+cCcwdsW4BsMT2bsCScjkGxJgJStKS8vZT9YUTEYPK9mXAyIlQ51HMvE15e0itQUWjxrsGNUvS64CDJX0NUOc/bV/d1chiUI02C3MMrgln4I7+NV6C+jjF6fROdDSSKBnYv1tBxUB7yizM5S9rANasWcOcOU/W/M2fP5+iYWkMspSL/jRmgrJ9PnC+pP9t+xM1xhQDbIxZmNcnqJkzZ7J06YZtJ05MK6x+VmkG7pSL/lSlmfknJB0MvLZcdant73Q3rKhbG0ZgHmcW5hhcmYF7gFWZUfeTFL9izy5XfVDSvraP72pkMYhGnYW52ZCiLpLOoZi9e4akFcAJFIkpM3APqCpDHR0EzC4nLUTSIuAaIAkqptVYszDHYLB9xBj/ygzcA6pqP6htOu4/qxuBREREdKpyBvVJ4BpJP6Roav5acvYUERFdVqWRxDmSLgVeSZGgjivH54uIiOiaKmdQlB3lFnc5loiIiPUqJaiIiJheVbp2VO3W0YZuIt2QwWIjIqKVxk1QkjbpHPo+IiKiLuMmqLLv03WSnltTPBEREUC1a1CzgBslXQk8NLzS9sFdiyoiIgZelQT1f7oeRURExAhV+kH9SNIuwG62/1XS7wGbdj+0iIgYZFUGi/3vwHxgO+D5FJOsfJGMjxUR0VOmszl6HU3bqzQzPxbYF3gAwPatQGa1jIiIrqqSoB61/djwgqTNKGbUjYiI6JoqCepHkj4KbCnpjcC/AN+eyotKmivpFkm3SVpQ5TFrr+2NaYFOPfXUpkOopK1xTqZsdFuvlL3p1Lb33MZyUVXb9uVY2hhnlQS1AFgDXA/8GXAh8L8m+4KSNgW+ALwZ2B04QtLuEz3uwevat/NG09YD/0htjHOyZaPbeqXsTac2vee2louq2rQvx9PGOKu04nuinKTwCoqqvVtsT6WKb2/gtnJyOiR9DZgH/PsUnjP6Q8pGjCblYkBpolwj6SCKVnu/pJhuY1fgz2x/b1IvKB0KzLX9p+XykcCrbL+/Y5u1bHh2t6a8vWcyr1mzGQxenLvYnjnVJ5lC2ej2/u6Vz3Q6Tdd7nnLZaHG5qKpXyk+dcVYqF1U66n4GeL3t2wAkPR/4LjCpBEWR5EbaIEva3nqSzx29LWUjRpNyMaCqXINaPZycSrcDq6fwmiuAnTuWdwJWTuH5on+kbMRoUi4G1JhnUJLeXt69UdKFwHkUv1oOA66awmteBewmaVfgP4DDgT+awvNF/0jZiNGkXAyo8ar43tpx/27gdeX9NcC2k31B2+skvR/4PsWQSWfYvnGyzxf9I2UjRpNyMbgmbCTRBpLmAidTFM7TbC9sOCQAJC0H1gKPA+tsz5G0HXAuMAQsB95p+/4GYjsDeAtFFe0e5bpRY5Mkiv17IPAw8G7bV9cdcxuN9hk3G9H025iy0lSMbSdpC+Ay4OkUP/zPt33CiG2eDpwFvAK4F3iX7eUtjPPdwEkUZ6sAn7d9Wp1xDpvwGpSkXSV9VtI3JC0e/qsjuPL1294H4vW2Z3ccuBYAS2zvBiwpl5twJjB3xLqxYnszsFv5Nx84paYYe8XIz7jfnEn1shKjexTY3/bLgdnAXEn7jNjmGOB+2y8APgd8quYYoVqcAOeWZX52U8kJqjWS+CbFL6h/pGjRN/xXl/V9IMohl4b7QLTVPGBReX8RcEgTQdi+DLhvxOqxYpsHnOXCz4BtJM2qJ9Jo2kaWlRhF+d15sFzcvPwbWT3VuU/PBw4oay9qUzHO1qiSoH5r+x9s/9D2j4b/uh7Zk3YEftWxvKJc1wYGLpa0TNL8ct0OtlcBlLdtGlh3rNjavI+bNtpnPAjaXI5bSdKmkq6laOV8ie0rRmyy/ntmex3wG+D3642yUpwA75D0c0nnS9p5lP/Xoko/qJMlnQBcTHF6CECN1ygm7APRoH1tr5S0PXCJpJubDmiS2ryPm/aUz7g844jYgO3HgdmStgEukLSH7Rs6NmnF96xCnN8GzrH9qKT3Upz17V93nFAtQb0UOJIiwCfKdaa+gFvbB8L2yvJ2taQLKKoj75Y0y/aqsppsKn3GpttYsbV2HzdtjM94EBJUm8txq9n+taRLKa7rdR74h79nK8pZIZ7FU6tWazNWnLbv7djsSzRzrQyoVsX3NuB5tl9n+/XlX53ZdH0fCElPo+gDUVsjjbFI2krS1sP3gTdRfMiLgaPKzY4CvtVMhKMaK7bFwJ+osA/wm+HqnUE2zmc8CNpcjltH0szyjARJWwJvAEbWqHTu00OBH0xxXNONViXOEdefDwZuqi/CDVU5g7oO2IaGfkG1uA/EDhSnx1Dsx6/avkjSVcB5ko4B7qLo2Fw7SecA+wEzJK0ATgAWjhHbhRRNzG+jaGZ+dO0Bt9Oon3GzIU2/jSwrMbpZwKKy1fEmwHm2vyPpb4ClthcDpwP/T9JtFGdOh7c0zg9IOhhYV8b57gbiBKoNFnsp8DKKM5nOa1AHdzWyiIgYaFXOoE6YeJOIiIjp1RMjSURExOCZ8AyqnGdlOIs9jaJj10O2n9nNwCIiYrBVmVF3g3lWJB1C0dQ2IiKiayZVxSfpZ7ZHG78pIiJiWlSp4nt7x+ImwBwyysBTSHocuL5j1SEUTXfnjJia+lLgL2wvlfQe4M8p9ucmwMdsp79JbEDShykG8f0dRWf5JcBxtn/XaGAxrTqOIZsBdwBHlp1pNwH+nmJwBAO/pRhd/o7Ggq1JlVZ8nfNCraMYOLbNg7U25RHbsztXjDcOpKSdgI8Be9n+jaRnADO7G2K0maTNyjHaOte9l6KD8D7lweppwIeBLSkSVvSP9ccQSYuAY4G/Bd4FPAd4me0nymPHQ82FWZ8q16DSabM7tqeYZ+hBgHKE4QfHfUT0hHLUifMohozaFPgExXAxc2zfI2kO8Gnb+0n6a4qDzxBwD0+dKfZjwGtt/xqgHNG/FfOhRVddTtH/FIrOtatsPwFge0VjUdVsvCnfPz7O42z7E12Ip5dtWY4QDHCH7bdNsP11FDMV3yFpCfAN29/uaoRRl7nAStsHAUh6FuOPZ/YK4DW2H+lcWQ6z9IxBqMqJJ5WjPBxAMfIEFD92fiLpDymqd79i+5qm4qvTeGPxPTTKHxSTbh3X5bh60SMdE3wNJ6exrtW5HFF4LsWYXL8APlf+mo7edz3wBkmfkvSHtn8zwfaLRyankugoQ5L+q6RrJS2X9OrpDDhaYfhH7r3AdsAlsP6M6YXA8ZTXICUd0FiUNRozQdn+zPAfcCpFnffRFBMGPq+m+HrdvcC2I9ZtR1GVMzx52JW2P0kxLtc7ao4vusD2LyjOiq4HPlnWRqzjye/bFiMesv56gqQvl0noQtsPAA9J2rV83u+X1yhuoOiTGP1l+BrULhSf77HD/7D9qO3v2f5L4EQGZALJcUczl7SdpP8L/JyiOnAv28fZztD71VwF7Cvp2QDltYenA7+S9BxJe3VsOxu4s4EYY5pJeg7wsO2vAJ8G9qJoXPSKcpMxf4jYPro8Cz+wXPVJ4JSOEajFUxNc9JHyjPsDwF9I2lzSXmWZomzR9zIG5Fgx3jWok4C3U5w9vbRjmuCoyPbdkj4IXFgWrAeBI8qWOJsDny4L3m+BNcB7Gww3ps9LgZMkPUHR0u59FDUQp0v6KDDaDKZjOQX4PeAKSY9SlKGfAgNxDWJQ2b5G0nUUNStrgC9Jenr57yuBzzcWXI3G7Khbfrkepaia6NxIFLVTGeooIiK6JoPFRkREK1WZUTciIqJ2SVAREdFKSVAREdFKSVAREdFKSVAREdFKSVAREdFKSVAREdFKSVAREdFKSVAREdFKSVAREdFKSVAREdFKSVAREdFKSVAREdFKSVAREdFKSVAREdFKSVAREdFKSVAREdFKSVAREdFKSVAREdFKSVAREdFKSVAREdFKSVAREdFKSVAREdFKSVAREdFKSVAREdFKSVAREdFKmzUdwGhmzJjhoaGhpsOIipYtW3aP7Zl1vFbKRm+pq2ykXPSWquWilQlqaGiIpUuXNh1GVCTpzrpeK2Wjt9RVNlIuekvVctHKBBX1G1rw3UrbLV94UJcjifFU+ZzyGTWr6nepiqqf5XS+5sa8brflGlRERLRSElRERLRSElRERLRSElREtIKkMyStlnRDx7rtJF0i6dbydtsmY4x6JUFFRFucCcwdsW4BsMT2bsCScjkGRBJURLSC7cuA+0asngcsKu8vAg6pNahoVJqZt1CafEest4PtVQC2V0nafrSN1qxZw5w5c9Yvz58/n/nz59cUYnRLElRE9LyZM2emo24fShVfRLTZ3ZJmAZS3qxuOJ2qUBBURbbYYOKq8fxTwrQZjiZqlii9qJ+kM4C3Aatt7lOu2A84FhoDlwDtt399UjFE/SecA+wEzJK0ATgAWAudJOga4CzisuQjrN91DGPWanEFFE84kzYljBNtH2J5le3PbO9k+3fa9tg+wvVt5O7KVX/SxJKioXZoTR0QVqeKLtkhz4ojYQNcSVK4zRDekOXHE4OhmFd+Z5DpDVJfmxBGxga6dQdm+TNLQiNXzKFrpQHGd4VLguG7FED1luDnxQnqgOXGbJ4hrc2wRG6PuRhIbXGcARr3OEP2tbE58OfBCSSvKJsQLgTdKuhV4Y7kcEQOslY0kciG8v9k+Yox/HVBrIBHRanUnqLslzSpbaY15nSEXwiMiou4E1VPXGaBafX7VOvpB7xUeEf2jjlkXunYNKtcZIiJiKrrZii/XGSIiYtIy1FFERLRSK1vxRWyM6by2lz4/T5UZnqMpOYOKiIhWSoKKiIhW6rsqvjTlfqrsk4joRTmDioiIVkqCioiIVuq7Kr6ICEjV9lS0Zd/lDCoiIlopZ1ARHZr65diWX6wRbdIzCarNX+A2xxYR0atSxRcREa2UBBUREa2UBBUREa3USIKSNFfSLZJuk7Rgup537bUXTddTTYvEs/Gms2z0wvudin5/f526dcwYzyDtX2jn+609QUnaFPgC8GZgd+AISbtPx3M/eF27dnDi2TjTXTba/n6nqt/f37BuHjPGMyj7d1gb328TZ1B7A7fZvt32Y8DXgHkNxBHtk7IRo0m5GFCyXe8LSocCc23/abl8JPAq2+/v2GYtGybPNcA9FZ5+RsXt6jIo8exie+ZUn6QLZaNt+3+69cL7m3LZ6PIxYzy9sH+nU53vt1K5aKIflEZZt0GWtL11TbFEu6RsxGhSLgZUE1V8K4CdO5Z3AlY2EEe0T8pGjCblYkA1kaCuAnaTtKukpwGHA4sbiCPaJ2UjRpNyMaBqr+KzvU7S+4HvA5sCZ9i+se44on1SNmI0KReDq/ZGEt0g6QzgLcBq23u0IJ6dgbOAZwNPAKfaPrnBeLYALgOeTvGj5HzbJzQVT90k/QVwEjDTdl9d9JZ0EvBW4DHgl8DRtn/dbFT9oWzevhT4D9tvaTqebpK0DXAasAfF9b332L682aj6ZySJM4G5TQfRYR3wEdsvBvYBjq2j38Y4HgX2t/1yYDYwV9I+DcZTm/LHwhuBu5qOpUsuAfaw/TLgF8DxDcfTTz4I3NR0EDU5GbjI9ouAl9OS990XCcr2ZcB9TccxzPYq21eX99dSfNg7NhiPbT9YLm5e/vX+qXM1nwP+ij59v7Yvtr2uXPwZRQOCmCJJOwEHUZxV9DVJzwReC5wOYPuxtpyF90WCajNJQ8CewBUNx7GppGuB1cAlthuNpw6SDqaonrmu6Vhq8h7ge00H0Sf+nuKHzRNNB1KD51H0G/uypGsknSZpq6aDgiSorpL0DODrwIdsP9BkLLYftz2b4hf23pIav1Y3HST9q6QbRvmbB3wM+HjTMU7VBO9xeJuPUVQtn91cpP1B0vD17GVNx1KTzYC9gFNs7wk8BNQy3uFEembCwl4jaXOK5HS27W80Hc8w27+WdCnFNbsbGg5nymy/YbT1kl4K7ApcJwmKxHy1pL1t/2eNIU7ZWO9xmKSjKBoJHeB+aPXUvH2BgyUdCGwBPFPSV2z/ccNxdcsKYEVHrcr5tCRB5QyqC1QcEU8HbrL92RbEM7NspYOkLYE3ADc3G1V32b7e9va2h2wPUXwJ9+q15DQRSXOB44CDbT/cdDz9wPbxtncqy83hwA/6ODlRfid+JemF5aoDgH9vMKT1+iJBSTqOFFJkAAADmklEQVQHuBx4oaQVko5pOKR9gSOB/SVdW/4d2GA8s4AfSvo5RafHS2x/p8F4Yvp8HtgauKQsZ19sOqDoSf8TOLs8RswGTmw4HqBP+kFFRET/6YszqIiI6D9JUBER0UpJUBER0UpJUBER0UpJUBER0UpJUC0h6UxJd3Q0S/+3pmOKjSfpr8vR00euP7Ocuny6X28/Seky0CckfU7ShzqWvy/ptI7lz0j6cDPR1S8JqgGSxhrB4y9tzy7/Xl1rUBHRBv8GvBpA0ibADOAlHf9/NfDTBuJqRBLUFEjaStJ3JV1Xjo32LknLJc0o/z+nHFZo+Jf1qZIuppgrKvqEpI9JukXSvwIvHGfTN0j6saRflOO9IWmoXHd1+Td8cNpP0qWSzpd0s6SzyxFKkDS3XPcT4O1df4NRp59SJiiKxHQDsFbStpKeDrwYuKap4OqWsfimZi6w0vZBAJKeBXxqnO1fAbzG9iNj/P8kSf+rvH+j7f82faFGN0h6BcVwOHtSfJ+uBsYaZHQIeB3wfIqRPV5AMbr8G23/VtJuwDnAnHL7PSkOUispDlz7SloKfAnYH7gNOLcLbysaYnulpHWSnkuRqC6nmKrnD4DfAD+3/ViTMdYpCWpqrgc+LelTwHds/7j8kTuWxeMkJyiq+M6f1gij2/4QuGB4HDxJi8fZ9jzbTwC3SrodeBFwB/B5SbOBx4H/0rH9lbZXlM97LUWCexC4w/at5fqvAPOn9y1Fw4bPol4NfJYiQb2aIkEN1LXpJKgpsP2L8hf0gcAny+q7dTxZdbrFiIc8NHxH0pcpfiGvtN3kOH0xdVXHCxu5nYE/B+6mmMV0E+C3Hf9/tOP+4zz5fc34ZP1t+DrUSymq+H4FfAR4ADijwbhql2tQUyDpOcDDtr8CfJpiTpXlFFV5AO8Y67G2jy4bQyQ59bbLgLdJ2lLS1sBbx9n2MEmbSHo+xSRxtwDPAlaVZ1ZHAptO8Ho3A7uWzwFwxNTCjxb6KcX0KfeV87jdB2xDUc13eaOR1SxnUFPzUorrRk8AvwPeB2wJnC7po2z8LLqd16AA9h6k+uZeZPtqSecC1wJ3Aj8eZ/NbgB8BOwDvLa87/RPwdUmHAT+k4yx7jNf7raT5wHcl3QP8BOiLySdjvespWu99dcS6Z9i+p5mQmpHRzCMiopVSxRcREa2UBBUREa2UBBUREa2UBBUREa2UBBUREa2UBBUREa2UBBUREa30/wGOkkX2EYYfNQAAAABJRU5ErkJggg==\n",
      "text/plain": [
       "<Figure size 432x288 with 9 Axes>"
      ]
     },
     "metadata": {
      "needs_background": "light"
     },
     "output_type": "display_data"
    }
   ],
   "source": [
    "for i in range(9):\n",
    "    plt.subplot(3,3,i+1)\n",
    "    plt.hist(X[:,i])\n",
    "    plt.xlabel(symbol[i])\n",
    "    if i == 3:\n",
    "        plt.ylabel(\"Number of samples\")\n",
    "plt.tight_layout()\n",
    "plt.show()"
   ]
  },
  {
   "cell_type": "markdown",
   "metadata": {},
   "source": [
    "## Above  X and y arrays are the final training/testing data for knn model. Before the optimization process, should you normalize the data ?"
   ]
  },
  {
   "cell_type": "markdown",
   "metadata": {},
   "source": [
    "## Bellow the architecture of your KNN model and worked on the data"
   ]
  },
  {
   "cell_type": "code",
<<<<<<< HEAD
   "execution_count": 31,
=======
   "execution_count": 21,
>>>>>>> 233cdc2a126e07089cd37b4019eb6b61de2a67c7
   "metadata": {},
   "outputs": [],
   "source": [
    "from sklearn.neighbors import KNeighborsRegressor\n",
    "from sklearn.model_selection import GridSearchCV\n",
    "from mlxtend.evaluate import PredefinedHoldoutSplit\n",
    "from sklearn.pipeline import make_pipeline\n",
    "from sklearn.model_selection import train_test_split\n",
    "from sklearn.preprocessing import StandardScaler\n",
    "from sklearn.decomposition import PCA"
   ]
  },
  {
   "cell_type": "markdown",
   "metadata": {},
   "source": [
    "### firstly, separate the data into training(80%) and testing(20%) randomly."
   ]
  },
  {
   "cell_type": "code",
<<<<<<< HEAD
   "execution_count": 32,
=======
   "execution_count": 22,
>>>>>>> 233cdc2a126e07089cd37b4019eb6b61de2a67c7
   "metadata": {},
   "outputs": [],
   "source": [
    "train_ind, valid_ind = train_test_split(np.arange(X.shape[0]),\n",
    "                                        test_size=0.2, shuffle=True,\n",
    "                                        random_state=123)"
   ]
  },
  {
   "cell_type": "markdown",
   "metadata": {},
   "source": [
    "### construct pip. the pip contains normalization data and then flow to knn regressionor."
   ]
  },
  {
   "cell_type": "code",
<<<<<<< HEAD
   "execution_count": 33,
=======
   "execution_count": 25,
>>>>>>> 233cdc2a126e07089cd37b4019eb6b61de2a67c7
   "metadata": {},
   "outputs": [],
   "source": [
    "pipe = make_pipeline(PCA(),StandardScaler(),\n",
    "                     KNeighborsRegressor())"
   ]
  },
  {
   "cell_type": "code",
<<<<<<< HEAD
   "execution_count": 34,
   "metadata": {},
   "outputs": [],
   "source": [
    "params = {'pca__n_components': [3,4,5,6,7,8,9],\n",
    "          'kneighborsregressor__n_neighbors': [1,3,5,7],\n",
    "          'kneighborsregressor__p': [1, 2],\n",
    "          'kneighborsregressor__weights':['uniform','distance']}"
=======
   "execution_count": 26,
   "metadata": {},
   "outputs": [],
   "source": [
    "params = {'kneighborsregressor__n_neighbors': [1, 3, 5],\n",
    "          'kneighborsregressor__p': [1, 2],\n",
    "          'pca__n_components': [3,4,5,6,7,8,9]}"
>>>>>>> 233cdc2a126e07089cd37b4019eb6b61de2a67c7
   ]
  },
  {
   "cell_type": "markdown",
   "metadata": {},
   "source": [
    "### Use hold one out method for the evaluation of the prediction quality"
   ]
  },
  {
   "cell_type": "code",
<<<<<<< HEAD
   "execution_count": 35,
=======
   "execution_count": 27,
>>>>>>> 233cdc2a126e07089cd37b4019eb6b61de2a67c7
   "metadata": {},
   "outputs": [],
   "source": [
    "split = PredefinedHoldoutSplit(valid_indices=valid_ind)"
   ]
  },
  {
   "cell_type": "markdown",
   "metadata": {},
   "source": [
    "### grid search the optimized hyper-parameters."
   ]
  },
  {
   "cell_type": "code",
<<<<<<< HEAD
   "execution_count": 36,
=======
   "execution_count": 28,
>>>>>>> 233cdc2a126e07089cd37b4019eb6b61de2a67c7
   "metadata": {},
   "outputs": [],
   "source": [
    "grid = GridSearchCV(pipe,\n",
    "                    param_grid=params,\n",
    "                    cv=split)"
   ]
  },
  {
   "cell_type": "code",
<<<<<<< HEAD
   "execution_count": 37,
=======
   "execution_count": 29,
>>>>>>> 233cdc2a126e07089cd37b4019eb6b61de2a67c7
   "metadata": {},
   "outputs": [
    {
     "data": {
      "text/plain": [
<<<<<<< HEAD
       "GridSearchCV(cv=<mlxtend.evaluate.holdout.PredefinedHoldoutSplit object at 0x0000024CE1570A20>,\n",
=======
       "GridSearchCV(cv=<mlxtend.evaluate.holdout.PredefinedHoldoutSplit object at 0x000001C1847BAC88>,\n",
>>>>>>> 233cdc2a126e07089cd37b4019eb6b61de2a67c7
       "       error_score='raise-deprecating',\n",
       "       estimator=Pipeline(memory=None,\n",
       "     steps=[('pca', PCA(copy=True, iterated_power='auto', n_components=None, random_state=None,\n",
       "  svd_solver='auto', tol=0.0, whiten=False)), ('standardscaler', StandardScaler(copy=True, with_mean=True, with_std=True)), ('kneighborsregressor', KNeighborsRegressor(algorithm='auto', leaf_size=30, metric='minkowski',\n",
       "          metric_params=None, n_jobs=None, n_neighbors=5, p=2,\n",
       "          weights='uniform'))]),\n",
       "       fit_params=None, iid='warn', n_jobs=None,\n",
<<<<<<< HEAD
       "       param_grid={'pca__n_components': [3, 4, 5, 6, 7, 8, 9], 'kneighborsregressor__n_neighbors': [1, 3, 5, 7], 'kneighborsregressor__p': [1, 2], 'kneighborsregressor__weights': ['uniform', 'distance']},\n",
=======
       "       param_grid={'kneighborsregressor__n_neighbors': [1, 3, 5], 'kneighborsregressor__p': [1, 2], 'pca__n_components': [3, 4, 5, 6, 7, 8, 9]},\n",
>>>>>>> 233cdc2a126e07089cd37b4019eb6b61de2a67c7
       "       pre_dispatch='2*n_jobs', refit=True, return_train_score='warn',\n",
       "       scoring=None, verbose=0)"
      ]
     },
<<<<<<< HEAD
     "execution_count": 37,
=======
     "execution_count": 29,
>>>>>>> 233cdc2a126e07089cd37b4019eb6b61de2a67c7
     "metadata": {},
     "output_type": "execute_result"
    }
   ],
   "source": [
    "grid.fit(X, y)"
   ]
  },
  {
   "cell_type": "markdown",
   "metadata": {},
   "source": [
    "### Above is the detail of the present KNN model "
   ]
  },
  {
   "cell_type": "code",
<<<<<<< HEAD
   "execution_count": 38,
=======
   "execution_count": 30,
>>>>>>> 233cdc2a126e07089cd37b4019eb6b61de2a67c7
   "metadata": {},
   "outputs": [
    {
     "name": "stdout",
     "output_type": "stream",
     "text": [
      "0.724214301793895\n"
     ]
    }
   ],
   "source": [
    "print(grid.best_score_)"
   ]
<<<<<<< HEAD
  },
  {
   "cell_type": "markdown",
   "metadata": {},
   "source": [
    "### The feature distribution after dimension reduction of PCA"
   ]
  },
  {
   "cell_type": "code",
   "execution_count": 39,
   "metadata": {},
   "outputs": [
    {
     "name": "stdout",
     "output_type": "stream",
     "text": [
      "[9.87095890e-01 1.00603761e-02 2.46071493e-03 2.43324940e-04\n",
      " 1.04977625e-04]\n"
     ]
    },
    {
     "data": {
      "image/png": "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\n",
      "text/plain": [
       "<Figure size 432x288 with 5 Axes>"
      ]
     },
     "metadata": {
      "needs_background": "light"
     },
     "output_type": "display_data"
    }
   ],
   "source": [
    "pca_best = grid.best_estimator_.named_steps['pca']\n",
    "pca_best.fit(X)\n",
    "print(pca_best.explained_variance_ratio_)\n",
    "\n",
    "X_new = pca_best.transform(X)\n",
    "for i in range(len(X_new[0])):\n",
    "    plt.subplot(2,3,i+1)\n",
    "    plt.hist(X[:,i])\n",
    "    plt.xlabel(\"New feature {}\".format(i+1))\n",
    "    if i == 0 or i == 3 :\n",
    "        plt.ylabel(\"Number of samples\")\n",
    "plt.tight_layout()\n",
    "plt.show()"
   ]
  },
  {
   "cell_type": "markdown",
   "metadata": {},
   "source": [
    "### Print out training process and validation set scores"
   ]
  },
  {
   "cell_type": "code",
   "execution_count": 40,
   "metadata": {},
   "outputs": [
    {
     "name": "stdout",
     "output_type": "stream",
     "text": [
      "0.577 (+/-0.000) for {'kneighborsregressor__n_neighbors': 1, 'kneighborsregressor__p': 1, 'kneighborsregressor__weights': 'uniform', 'pca__n_components': 3}\n",
      "0.601 (+/-0.000) for {'kneighborsregressor__n_neighbors': 1, 'kneighborsregressor__p': 1, 'kneighborsregressor__weights': 'uniform', 'pca__n_components': 4}\n",
      "0.440 (+/-0.000) for {'kneighborsregressor__n_neighbors': 1, 'kneighborsregressor__p': 1, 'kneighborsregressor__weights': 'uniform', 'pca__n_components': 5}\n",
      "0.508 (+/-0.000) for {'kneighborsregressor__n_neighbors': 1, 'kneighborsregressor__p': 1, 'kneighborsregressor__weights': 'uniform', 'pca__n_components': 6}\n",
      "0.402 (+/-0.000) for {'kneighborsregressor__n_neighbors': 1, 'kneighborsregressor__p': 1, 'kneighborsregressor__weights': 'uniform', 'pca__n_components': 7}\n",
      "-1.054 (+/-0.000) for {'kneighborsregressor__n_neighbors': 1, 'kneighborsregressor__p': 1, 'kneighborsregressor__weights': 'uniform', 'pca__n_components': 8}\n",
      "-1.029 (+/-0.000) for {'kneighborsregressor__n_neighbors': 1, 'kneighborsregressor__p': 1, 'kneighborsregressor__weights': 'uniform', 'pca__n_components': 9}\n",
      "0.577 (+/-0.000) for {'kneighborsregressor__n_neighbors': 1, 'kneighborsregressor__p': 1, 'kneighborsregressor__weights': 'distance', 'pca__n_components': 3}\n",
      "0.601 (+/-0.000) for {'kneighborsregressor__n_neighbors': 1, 'kneighborsregressor__p': 1, 'kneighborsregressor__weights': 'distance', 'pca__n_components': 4}\n",
      "0.440 (+/-0.000) for {'kneighborsregressor__n_neighbors': 1, 'kneighborsregressor__p': 1, 'kneighborsregressor__weights': 'distance', 'pca__n_components': 5}\n",
      "0.508 (+/-0.000) for {'kneighborsregressor__n_neighbors': 1, 'kneighborsregressor__p': 1, 'kneighborsregressor__weights': 'distance', 'pca__n_components': 6}\n",
      "0.402 (+/-0.000) for {'kneighborsregressor__n_neighbors': 1, 'kneighborsregressor__p': 1, 'kneighborsregressor__weights': 'distance', 'pca__n_components': 7}\n",
      "-1.054 (+/-0.000) for {'kneighborsregressor__n_neighbors': 1, 'kneighborsregressor__p': 1, 'kneighborsregressor__weights': 'distance', 'pca__n_components': 8}\n",
      "-1.029 (+/-0.000) for {'kneighborsregressor__n_neighbors': 1, 'kneighborsregressor__p': 1, 'kneighborsregressor__weights': 'distance', 'pca__n_components': 9}\n",
      "0.577 (+/-0.000) for {'kneighborsregressor__n_neighbors': 1, 'kneighborsregressor__p': 2, 'kneighborsregressor__weights': 'uniform', 'pca__n_components': 3}\n",
      "0.601 (+/-0.000) for {'kneighborsregressor__n_neighbors': 1, 'kneighborsregressor__p': 2, 'kneighborsregressor__weights': 'uniform', 'pca__n_components': 4}\n",
      "0.387 (+/-0.000) for {'kneighborsregressor__n_neighbors': 1, 'kneighborsregressor__p': 2, 'kneighborsregressor__weights': 'uniform', 'pca__n_components': 5}\n",
      "0.093 (+/-0.000) for {'kneighborsregressor__n_neighbors': 1, 'kneighborsregressor__p': 2, 'kneighborsregressor__weights': 'uniform', 'pca__n_components': 6}\n",
      "0.081 (+/-0.000) for {'kneighborsregressor__n_neighbors': 1, 'kneighborsregressor__p': 2, 'kneighborsregressor__weights': 'uniform', 'pca__n_components': 7}\n",
      "-1.063 (+/-0.000) for {'kneighborsregressor__n_neighbors': 1, 'kneighborsregressor__p': 2, 'kneighborsregressor__weights': 'uniform', 'pca__n_components': 8}\n",
      "-3.976 (+/-0.000) for {'kneighborsregressor__n_neighbors': 1, 'kneighborsregressor__p': 2, 'kneighborsregressor__weights': 'uniform', 'pca__n_components': 9}\n",
      "0.577 (+/-0.000) for {'kneighborsregressor__n_neighbors': 1, 'kneighborsregressor__p': 2, 'kneighborsregressor__weights': 'distance', 'pca__n_components': 3}\n",
      "0.601 (+/-0.000) for {'kneighborsregressor__n_neighbors': 1, 'kneighborsregressor__p': 2, 'kneighborsregressor__weights': 'distance', 'pca__n_components': 4}\n",
      "0.387 (+/-0.000) for {'kneighborsregressor__n_neighbors': 1, 'kneighborsregressor__p': 2, 'kneighborsregressor__weights': 'distance', 'pca__n_components': 5}\n",
      "0.093 (+/-0.000) for {'kneighborsregressor__n_neighbors': 1, 'kneighborsregressor__p': 2, 'kneighborsregressor__weights': 'distance', 'pca__n_components': 6}\n",
      "0.081 (+/-0.000) for {'kneighborsregressor__n_neighbors': 1, 'kneighborsregressor__p': 2, 'kneighborsregressor__weights': 'distance', 'pca__n_components': 7}\n",
      "-1.063 (+/-0.000) for {'kneighborsregressor__n_neighbors': 1, 'kneighborsregressor__p': 2, 'kneighborsregressor__weights': 'distance', 'pca__n_components': 8}\n",
      "-3.976 (+/-0.000) for {'kneighborsregressor__n_neighbors': 1, 'kneighborsregressor__p': 2, 'kneighborsregressor__weights': 'distance', 'pca__n_components': 9}\n",
      "0.521 (+/-0.000) for {'kneighborsregressor__n_neighbors': 3, 'kneighborsregressor__p': 1, 'kneighborsregressor__weights': 'uniform', 'pca__n_components': 3}\n",
      "0.572 (+/-0.000) for {'kneighborsregressor__n_neighbors': 3, 'kneighborsregressor__p': 1, 'kneighborsregressor__weights': 'uniform', 'pca__n_components': 4}\n",
      "0.440 (+/-0.000) for {'kneighborsregressor__n_neighbors': 3, 'kneighborsregressor__p': 1, 'kneighborsregressor__weights': 'uniform', 'pca__n_components': 5}\n",
      "0.588 (+/-0.000) for {'kneighborsregressor__n_neighbors': 3, 'kneighborsregressor__p': 1, 'kneighborsregressor__weights': 'uniform', 'pca__n_components': 6}\n",
      "0.453 (+/-0.000) for {'kneighborsregressor__n_neighbors': 3, 'kneighborsregressor__p': 1, 'kneighborsregressor__weights': 'uniform', 'pca__n_components': 7}\n",
      "0.313 (+/-0.000) for {'kneighborsregressor__n_neighbors': 3, 'kneighborsregressor__p': 1, 'kneighborsregressor__weights': 'uniform', 'pca__n_components': 8}\n",
      "0.224 (+/-0.000) for {'kneighborsregressor__n_neighbors': 3, 'kneighborsregressor__p': 1, 'kneighborsregressor__weights': 'uniform', 'pca__n_components': 9}\n",
      "0.527 (+/-0.000) for {'kneighborsregressor__n_neighbors': 3, 'kneighborsregressor__p': 1, 'kneighborsregressor__weights': 'distance', 'pca__n_components': 3}\n",
      "0.598 (+/-0.000) for {'kneighborsregressor__n_neighbors': 3, 'kneighborsregressor__p': 1, 'kneighborsregressor__weights': 'distance', 'pca__n_components': 4}\n",
      "0.488 (+/-0.000) for {'kneighborsregressor__n_neighbors': 3, 'kneighborsregressor__p': 1, 'kneighborsregressor__weights': 'distance', 'pca__n_components': 5}\n",
      "0.607 (+/-0.000) for {'kneighborsregressor__n_neighbors': 3, 'kneighborsregressor__p': 1, 'kneighborsregressor__weights': 'distance', 'pca__n_components': 6}\n",
      "0.514 (+/-0.000) for {'kneighborsregressor__n_neighbors': 3, 'kneighborsregressor__p': 1, 'kneighborsregressor__weights': 'distance', 'pca__n_components': 7}\n",
      "0.196 (+/-0.000) for {'kneighborsregressor__n_neighbors': 3, 'kneighborsregressor__p': 1, 'kneighborsregressor__weights': 'distance', 'pca__n_components': 8}\n",
      "0.111 (+/-0.000) for {'kneighborsregressor__n_neighbors': 3, 'kneighborsregressor__p': 1, 'kneighborsregressor__weights': 'distance', 'pca__n_components': 9}\n",
      "0.521 (+/-0.000) for {'kneighborsregressor__n_neighbors': 3, 'kneighborsregressor__p': 2, 'kneighborsregressor__weights': 'uniform', 'pca__n_components': 3}\n",
      "0.672 (+/-0.000) for {'kneighborsregressor__n_neighbors': 3, 'kneighborsregressor__p': 2, 'kneighborsregressor__weights': 'uniform', 'pca__n_components': 4}\n",
      "0.370 (+/-0.000) for {'kneighborsregressor__n_neighbors': 3, 'kneighborsregressor__p': 2, 'kneighborsregressor__weights': 'uniform', 'pca__n_components': 5}\n",
      "0.201 (+/-0.000) for {'kneighborsregressor__n_neighbors': 3, 'kneighborsregressor__p': 2, 'kneighborsregressor__weights': 'uniform', 'pca__n_components': 6}\n",
      "0.120 (+/-0.000) for {'kneighborsregressor__n_neighbors': 3, 'kneighborsregressor__p': 2, 'kneighborsregressor__weights': 'uniform', 'pca__n_components': 7}\n",
      "-0.993 (+/-0.000) for {'kneighborsregressor__n_neighbors': 3, 'kneighborsregressor__p': 2, 'kneighborsregressor__weights': 'uniform', 'pca__n_components': 8}\n",
      "-0.024 (+/-0.000) for {'kneighborsregressor__n_neighbors': 3, 'kneighborsregressor__p': 2, 'kneighborsregressor__weights': 'uniform', 'pca__n_components': 9}\n",
      "0.522 (+/-0.000) for {'kneighborsregressor__n_neighbors': 3, 'kneighborsregressor__p': 2, 'kneighborsregressor__weights': 'distance', 'pca__n_components': 3}\n",
      "0.657 (+/-0.000) for {'kneighborsregressor__n_neighbors': 3, 'kneighborsregressor__p': 2, 'kneighborsregressor__weights': 'distance', 'pca__n_components': 4}\n",
      "0.389 (+/-0.000) for {'kneighborsregressor__n_neighbors': 3, 'kneighborsregressor__p': 2, 'kneighborsregressor__weights': 'distance', 'pca__n_components': 5}\n",
      "0.225 (+/-0.000) for {'kneighborsregressor__n_neighbors': 3, 'kneighborsregressor__p': 2, 'kneighborsregressor__weights': 'distance', 'pca__n_components': 6}\n",
      "0.184 (+/-0.000) for {'kneighborsregressor__n_neighbors': 3, 'kneighborsregressor__p': 2, 'kneighborsregressor__weights': 'distance', 'pca__n_components': 7}\n",
      "-0.952 (+/-0.000) for {'kneighborsregressor__n_neighbors': 3, 'kneighborsregressor__p': 2, 'kneighborsregressor__weights': 'distance', 'pca__n_components': 8}\n",
      "-0.123 (+/-0.000) for {'kneighborsregressor__n_neighbors': 3, 'kneighborsregressor__p': 2, 'kneighborsregressor__weights': 'distance', 'pca__n_components': 9}\n",
      "0.595 (+/-0.000) for {'kneighborsregressor__n_neighbors': 5, 'kneighborsregressor__p': 1, 'kneighborsregressor__weights': 'uniform', 'pca__n_components': 3}\n",
      "0.059 (+/-0.000) for {'kneighborsregressor__n_neighbors': 5, 'kneighborsregressor__p': 1, 'kneighborsregressor__weights': 'uniform', 'pca__n_components': 4}\n",
      "0.541 (+/-0.000) for {'kneighborsregressor__n_neighbors': 5, 'kneighborsregressor__p': 1, 'kneighborsregressor__weights': 'uniform', 'pca__n_components': 5}\n",
      "0.356 (+/-0.000) for {'kneighborsregressor__n_neighbors': 5, 'kneighborsregressor__p': 1, 'kneighborsregressor__weights': 'uniform', 'pca__n_components': 6}\n",
      "0.396 (+/-0.000) for {'kneighborsregressor__n_neighbors': 5, 'kneighborsregressor__p': 1, 'kneighborsregressor__weights': 'uniform', 'pca__n_components': 7}\n",
      "0.299 (+/-0.000) for {'kneighborsregressor__n_neighbors': 5, 'kneighborsregressor__p': 1, 'kneighborsregressor__weights': 'uniform', 'pca__n_components': 8}\n",
      "0.344 (+/-0.000) for {'kneighborsregressor__n_neighbors': 5, 'kneighborsregressor__p': 1, 'kneighborsregressor__weights': 'uniform', 'pca__n_components': 9}\n",
      "0.619 (+/-0.000) for {'kneighborsregressor__n_neighbors': 5, 'kneighborsregressor__p': 1, 'kneighborsregressor__weights': 'distance', 'pca__n_components': 3}\n",
      "0.346 (+/-0.000) for {'kneighborsregressor__n_neighbors': 5, 'kneighborsregressor__p': 1, 'kneighborsregressor__weights': 'distance', 'pca__n_components': 4}\n",
      "0.656 (+/-0.000) for {'kneighborsregressor__n_neighbors': 5, 'kneighborsregressor__p': 1, 'kneighborsregressor__weights': 'distance', 'pca__n_components': 5}\n",
      "0.427 (+/-0.000) for {'kneighborsregressor__n_neighbors': 5, 'kneighborsregressor__p': 1, 'kneighborsregressor__weights': 'distance', 'pca__n_components': 6}\n",
      "0.463 (+/-0.000) for {'kneighborsregressor__n_neighbors': 5, 'kneighborsregressor__p': 1, 'kneighborsregressor__weights': 'distance', 'pca__n_components': 7}\n",
      "0.219 (+/-0.000) for {'kneighborsregressor__n_neighbors': 5, 'kneighborsregressor__p': 1, 'kneighborsregressor__weights': 'distance', 'pca__n_components': 8}\n",
      "0.265 (+/-0.000) for {'kneighborsregressor__n_neighbors': 5, 'kneighborsregressor__p': 1, 'kneighborsregressor__weights': 'distance', 'pca__n_components': 9}\n",
      "0.595 (+/-0.000) for {'kneighborsregressor__n_neighbors': 5, 'kneighborsregressor__p': 2, 'kneighborsregressor__weights': 'uniform', 'pca__n_components': 3}\n",
      "0.091 (+/-0.000) for {'kneighborsregressor__n_neighbors': 5, 'kneighborsregressor__p': 2, 'kneighborsregressor__weights': 'uniform', 'pca__n_components': 4}\n",
      "0.724 (+/-0.000) for {'kneighborsregressor__n_neighbors': 5, 'kneighborsregressor__p': 2, 'kneighborsregressor__weights': 'uniform', 'pca__n_components': 5}\n",
      "0.247 (+/-0.000) for {'kneighborsregressor__n_neighbors': 5, 'kneighborsregressor__p': 2, 'kneighborsregressor__weights': 'uniform', 'pca__n_components': 6}\n",
      "0.444 (+/-0.000) for {'kneighborsregressor__n_neighbors': 5, 'kneighborsregressor__p': 2, 'kneighborsregressor__weights': 'uniform', 'pca__n_components': 7}\n",
      "-0.748 (+/-0.000) for {'kneighborsregressor__n_neighbors': 5, 'kneighborsregressor__p': 2, 'kneighborsregressor__weights': 'uniform', 'pca__n_components': 8}\n",
      "0.079 (+/-0.000) for {'kneighborsregressor__n_neighbors': 5, 'kneighborsregressor__p': 2, 'kneighborsregressor__weights': 'uniform', 'pca__n_components': 9}\n",
      "0.616 (+/-0.000) for {'kneighborsregressor__n_neighbors': 5, 'kneighborsregressor__p': 2, 'kneighborsregressor__weights': 'distance', 'pca__n_components': 3}\n",
      "0.312 (+/-0.000) for {'kneighborsregressor__n_neighbors': 5, 'kneighborsregressor__p': 2, 'kneighborsregressor__weights': 'distance', 'pca__n_components': 4}\n",
      "0.710 (+/-0.000) for {'kneighborsregressor__n_neighbors': 5, 'kneighborsregressor__p': 2, 'kneighborsregressor__weights': 'distance', 'pca__n_components': 5}\n",
      "0.332 (+/-0.000) for {'kneighborsregressor__n_neighbors': 5, 'kneighborsregressor__p': 2, 'kneighborsregressor__weights': 'distance', 'pca__n_components': 6}\n",
      "0.470 (+/-0.000) for {'kneighborsregressor__n_neighbors': 5, 'kneighborsregressor__p': 2, 'kneighborsregressor__weights': 'distance', 'pca__n_components': 7}\n",
      "-0.752 (+/-0.000) for {'kneighborsregressor__n_neighbors': 5, 'kneighborsregressor__p': 2, 'kneighborsregressor__weights': 'distance', 'pca__n_components': 8}\n",
      "0.170 (+/-0.000) for {'kneighborsregressor__n_neighbors': 5, 'kneighborsregressor__p': 2, 'kneighborsregressor__weights': 'distance', 'pca__n_components': 9}\n",
      "0.487 (+/-0.000) for {'kneighborsregressor__n_neighbors': 7, 'kneighborsregressor__p': 1, 'kneighborsregressor__weights': 'uniform', 'pca__n_components': 3}\n",
      "0.394 (+/-0.000) for {'kneighborsregressor__n_neighbors': 7, 'kneighborsregressor__p': 1, 'kneighborsregressor__weights': 'uniform', 'pca__n_components': 4}\n",
      "0.573 (+/-0.000) for {'kneighborsregressor__n_neighbors': 7, 'kneighborsregressor__p': 1, 'kneighborsregressor__weights': 'uniform', 'pca__n_components': 5}\n",
      "0.241 (+/-0.000) for {'kneighborsregressor__n_neighbors': 7, 'kneighborsregressor__p': 1, 'kneighborsregressor__weights': 'uniform', 'pca__n_components': 6}\n",
      "0.531 (+/-0.000) for {'kneighborsregressor__n_neighbors': 7, 'kneighborsregressor__p': 1, 'kneighborsregressor__weights': 'uniform', 'pca__n_components': 7}\n",
      "0.492 (+/-0.000) for {'kneighborsregressor__n_neighbors': 7, 'kneighborsregressor__p': 1, 'kneighborsregressor__weights': 'uniform', 'pca__n_components': 8}\n",
      "0.478 (+/-0.000) for {'kneighborsregressor__n_neighbors': 7, 'kneighborsregressor__p': 1, 'kneighborsregressor__weights': 'uniform', 'pca__n_components': 9}\n",
      "0.631 (+/-0.000) for {'kneighborsregressor__n_neighbors': 7, 'kneighborsregressor__p': 1, 'kneighborsregressor__weights': 'distance', 'pca__n_components': 3}\n",
      "0.509 (+/-0.000) for {'kneighborsregressor__n_neighbors': 7, 'kneighborsregressor__p': 1, 'kneighborsregressor__weights': 'distance', 'pca__n_components': 4}\n",
      "0.673 (+/-0.000) for {'kneighborsregressor__n_neighbors': 7, 'kneighborsregressor__p': 1, 'kneighborsregressor__weights': 'distance', 'pca__n_components': 5}\n",
      "0.352 (+/-0.000) for {'kneighborsregressor__n_neighbors': 7, 'kneighborsregressor__p': 1, 'kneighborsregressor__weights': 'distance', 'pca__n_components': 6}\n",
      "0.557 (+/-0.000) for {'kneighborsregressor__n_neighbors': 7, 'kneighborsregressor__p': 1, 'kneighborsregressor__weights': 'distance', 'pca__n_components': 7}\n",
      "0.423 (+/-0.000) for {'kneighborsregressor__n_neighbors': 7, 'kneighborsregressor__p': 1, 'kneighborsregressor__weights': 'distance', 'pca__n_components': 8}\n",
      "0.420 (+/-0.000) for {'kneighborsregressor__n_neighbors': 7, 'kneighborsregressor__p': 1, 'kneighborsregressor__weights': 'distance', 'pca__n_components': 9}\n",
      "0.487 (+/-0.000) for {'kneighborsregressor__n_neighbors': 7, 'kneighborsregressor__p': 2, 'kneighborsregressor__weights': 'uniform', 'pca__n_components': 3}\n",
      "0.398 (+/-0.000) for {'kneighborsregressor__n_neighbors': 7, 'kneighborsregressor__p': 2, 'kneighborsregressor__weights': 'uniform', 'pca__n_components': 4}\n",
      "0.598 (+/-0.000) for {'kneighborsregressor__n_neighbors': 7, 'kneighborsregressor__p': 2, 'kneighborsregressor__weights': 'uniform', 'pca__n_components': 5}\n",
      "0.165 (+/-0.000) for {'kneighborsregressor__n_neighbors': 7, 'kneighborsregressor__p': 2, 'kneighborsregressor__weights': 'uniform', 'pca__n_components': 6}\n",
      "0.252 (+/-0.000) for {'kneighborsregressor__n_neighbors': 7, 'kneighborsregressor__p': 2, 'kneighborsregressor__weights': 'uniform', 'pca__n_components': 7}\n",
      "-0.883 (+/-0.000) for {'kneighborsregressor__n_neighbors': 7, 'kneighborsregressor__p': 2, 'kneighborsregressor__weights': 'uniform', 'pca__n_components': 8}\n",
      "0.274 (+/-0.000) for {'kneighborsregressor__n_neighbors': 7, 'kneighborsregressor__p': 2, 'kneighborsregressor__weights': 'uniform', 'pca__n_components': 9}\n",
      "0.628 (+/-0.000) for {'kneighborsregressor__n_neighbors': 7, 'kneighborsregressor__p': 2, 'kneighborsregressor__weights': 'distance', 'pca__n_components': 3}\n",
      "0.492 (+/-0.000) for {'kneighborsregressor__n_neighbors': 7, 'kneighborsregressor__p': 2, 'kneighborsregressor__weights': 'distance', 'pca__n_components': 4}\n",
      "0.647 (+/-0.000) for {'kneighborsregressor__n_neighbors': 7, 'kneighborsregressor__p': 2, 'kneighborsregressor__weights': 'distance', 'pca__n_components': 5}\n",
      "0.264 (+/-0.000) for {'kneighborsregressor__n_neighbors': 7, 'kneighborsregressor__p': 2, 'kneighborsregressor__weights': 'distance', 'pca__n_components': 6}\n",
      "0.339 (+/-0.000) for {'kneighborsregressor__n_neighbors': 7, 'kneighborsregressor__p': 2, 'kneighborsregressor__weights': 'distance', 'pca__n_components': 7}\n",
      "-0.836 (+/-0.000) for {'kneighborsregressor__n_neighbors': 7, 'kneighborsregressor__p': 2, 'kneighborsregressor__weights': 'distance', 'pca__n_components': 8}\n",
      "0.334 (+/-0.000) for {'kneighborsregressor__n_neighbors': 7, 'kneighborsregressor__p': 2, 'kneighborsregressor__weights': 'distance', 'pca__n_components': 9}\n",
      "best score: 0.724   best parameter: {'kneighborsregressor__n_neighbors': 5, 'kneighborsregressor__p': 2, 'kneighborsregressor__weights': 'uniform', 'pca__n_components': 5}\n"
     ]
    }
   ],
   "source": [
    "means = grid.cv_results_['mean_test_score']\n",
    "stds = grid.cv_results_['std_test_score']\n",
    "\n",
    "for mean, std, params in zip(means, stds, grid.cv_results_['params']):\n",
    "    print(\"%0.3f (+/-%0.03f) for %r\" % (mean, std * 2, params))\n",
    "\n",
    "print(\"best score: %0.3f   best parameter: %r\" % (grid.best_score_, grid.best_params_))"
   ]
  },
  {
   "cell_type": "markdown",
   "metadata": {},
   "source": [
    "### Comparison of true energy with predicted energy"
   ]
  },
  {
   "cell_type": "code",
   "execution_count": 41,
   "metadata": {},
   "outputs": [
    {
     "data": {
      "image/png": "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\n",
      "text/plain": [
       "<Figure size 432x288 with 1 Axes>"
      ]
     },
     "metadata": {
      "needs_background": "light"
     },
     "output_type": "display_data"
    }
   ],
   "source": [
    "X_train, X_valid, y_train, y_valid = X[train_ind], X[valid_ind], y[train_ind], y[valid_ind]\n",
    "train_score = grid.score(X_train,y_train)\n",
    "valid_score = grid.score(X_valid,y_valid)\n",
    "plt.scatter(grid.predict(X_train),y_train,label=\"Train(R$^2$={:.3f})\".format(train_score))\n",
    "plt.scatter(grid.predict(X_valid),y_valid,label=\"Valid(R$^2$={:.3f})\".format(valid_score))\n",
    "plt.plot([min(y_train),max(y_train)],[min(y_train),max(y_train)],c=\"red\")\n",
    "plt.legend(fontsize=15)\n",
    "plt.xlabel(\"E$_{Pred}$\",fontsize=20)\n",
    "plt.ylabel(\"E$_{True}$\",fontsize=20)\n",
    "plt.xticks(fontsize=15)\n",
    "plt.yticks(fontsize=15)\n",
    "plt.show()"
   ]
  },
  {
   "cell_type": "code",
   "execution_count": null,
   "metadata": {},
   "outputs": [],
   "source": []
=======
>>>>>>> 233cdc2a126e07089cd37b4019eb6b61de2a67c7
  }
 ],
 "metadata": {
  "kernelspec": {
   "display_name": "Python 3",
   "language": "python",
   "name": "python3"
  },
  "language_info": {
   "codemirror_mode": {
    "name": "ipython",
    "version": 3
   },
   "file_extension": ".py",
   "mimetype": "text/x-python",
   "name": "python",
   "nbconvert_exporter": "python",
   "pygments_lexer": "ipython3",
   "version": "3.6.5"
  }
 },
 "nbformat": 4,
 "nbformat_minor": 2
}
